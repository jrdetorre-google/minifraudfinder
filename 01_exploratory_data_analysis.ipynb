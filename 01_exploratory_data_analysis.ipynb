{
 "cells": [
  {
   "cell_type": "code",
   "execution_count": null,
   "metadata": {
    "cellView": "form",
    "id": "ur8xi4C7S06n",
    "tags": []
   },
   "outputs": [],
   "source": [
    "# Copyright 2023 Google LLC\n",
    "#\n",
    "# Licensed under the Apache License, Version 2.0 (the \"License\");\n",
    "# you may not use this file except in compliance with the License.\n",
    "# You may obtain a copy of the License at\n",
    "#\n",
    "#     https://www.apache.org/licenses/LICENSE-2.0\n",
    "#\n",
    "# Unless required by applicable law or agreed to in writing, software\n",
    "# distributed under the License is distributed on an \"AS IS\" BASIS,\n",
    "# WITHOUT WARRANTIES OR CONDITIONS OF ANY KIND, either express or implied.\n",
    "# See the License for the specific language governing permissions and\n",
    "# limitations under the License."
   ]
  },
  {
   "cell_type": "markdown",
   "metadata": {
    "id": "fsv4jGuU89rX"
   },
   "source": [
    "# miniFraudFinder - Exploratory Data Analysis\n",
    "\n",
    "<table align=\"left\">\n",
    "  <td>\n",
    "    <a href=\"https://console.cloud.google.com/ai-platform/notebooks/deploy-notebook?download_url=https://github.com/jrdetorre-google/minifraudfinder/raw/main/01_exploratory_data_analysis.ipynb\">\n",
    "       <img src=\"https://www.gstatic.com/cloud/images/navigation/vertex-ai.svg\" alt=\"Google Cloud Notebooks\">Open in Cloud Notebook\n",
    "    </a>\n",
    "  </td> \n",
    "  <td>\n",
    "    <a href=\"https://colab.research.google.com/github/jrdetorre-google/minifraudfinder/blob/main/01_exploratory_data_analysis.ipynb\">\n",
    "      <img src=\"https://cloud.google.com/ml-engine/images/colab-logo-32px.png\" alt=\"Colab logo\"> Open in Colab\n",
    "    </a>\n",
    "  </td>\n",
    "  <td>\n",
    "    <a href=\"https://github.com/jrdetorre-google/minifraudfinder/blob/main/01_exploratory_data_analysis.ipynb\">\n",
    "        <img src=\"https://cloud.google.com/ml-engine/images/github-logo-32px.png\" alt=\"GitHub logo\">\n",
    "      View on GitHub\n",
    "    </a>\n",
    "  </td>\n",
    "</table>"
   ]
  },
  {
   "cell_type": "markdown",
   "metadata": {
    "id": "827c41ab1a12"
   },
   "source": [
    "## Overview\n",
    "\n",
    "[miniFraudFinder](https://github.com/jrdetorre-google/minifraudfinder) is a series of labs on how to build a  fraud detection system on Google Cloud. Throughout the miniFraudFinder labs, you will learn how to read historical bank transaction data stored in data warehouse,  perform exploratory data analysis (EDA), do feature engineering,  train a model u, register your model in a model registry, evaluate your model, deploy your model to an endpoint, do real-time inference on your model and monitor your model."
   ]
  },
  {
   "cell_type": "markdown",
   "metadata": {
    "id": "45f6e923dc75"
   },
   "source": [
    "### Objective\n",
    "\n",
    "In this notebook, you will perform exploratory data analysis on the historical bank transactions stored in BigQuery. Please make sure you have completed the [environment setup notebook](00_environment_setup.ipynb) prior to running this notebook.\n",
    "\n",
    "This lab uses the following Google Cloud services and resources:\n",
    "\n",
    "- [Vertex AI](https://cloud.google.com/vertex-ai/)\n",
    "- [BigQuery](https://cloud.google.com/bigquery/)\n",
    "- [Google Cloud Storage](https://cloud.google.com/storage)\n",
    "\n",
    "Steps performed in this notebook:\n",
    "\n",
    "- Read data from BigQuery\n",
    "- Calculate summary statistics across historical transactions\n",
    "- Calculate fraud percentages\n",
    "- Plot distributions of transaction amounts\n",
    "- Analyze customer-level aggregates of transaction data"
   ]
  },
  {
   "cell_type": "markdown",
   "metadata": {
    "id": "8b5e2e2a7bdb"
   },
   "source": [
    "### Costs"
   ]
  },
  {
   "cell_type": "markdown",
   "metadata": {
    "id": "04c1dae4ca17"
   },
   "source": [
    "This tutorial uses billable components of Google Cloud:\n",
    "\n",
    "* Vertex AI\n",
    "* Cloud Storage\n",
    "* BigQuery\n",
    "\n",
    "Learn about [Vertex AI\n",
    "pricing](https://cloud.google.com/vertex-ai/pricing), [BigQuery pricing](https://cloud.google.com/bigquery/pricing) and use the [Pricing\n",
    "Calculator](https://cloud.google.com/products/calculator/)\n",
    "to generate a cost estimate based on your projected usage."
   ]
  },
  {
   "cell_type": "markdown",
   "metadata": {
    "tags": []
   },
   "source": [
    "### Setup based on notebook environment\n",
    "\n",
    "If using Colab, make sure to enter your project ID in the cell below."
   ]
  },
  {
   "cell_type": "code",
   "execution_count": 3,
   "metadata": {
    "tags": []
   },
   "outputs": [],
   "source": [
    "# Detect if current environment is Colab, authenticate if so\n",
    "# Enter in project directly if Colab, detect from environment otherwise\n",
    "# Also adjusts plotly renderer for Colab vs other (to display interactive plots)\n",
    "\n",
    "import sys\n",
    "import plotly.io as pio\n",
    "\n",
    "if \"google.colab\" in sys.modules:\n",
    "    # Authenticate user to Google Cloud\n",
    "    from google.colab import auth\n",
    "\n",
    "    auth.authenticate_user()\n",
    "\n",
    "    # If Colab, enter in Cloud project here\n",
    "    GCP_PROJECTS = ['YOUR-PROJECT-ID'] # @param {type:\"raw\"}\n",
    "\n",
    "    pio.renderers.default = 'colab'\n",
    "\n",
    "else:\n",
    "    # Detect Cloud project from environment\n",
    "    GCP_PROJECTS = !gcloud config get-value project\n",
    "\n",
    "    pio.renderers.default = 'iframe'"
   ]
  },
  {
   "cell_type": "markdown",
   "metadata": {},
   "source": [
    "### Load configuration settings from the setup notebook\n",
    "\n",
    "Set the constants used in this notebook and load the config settings from the `00_environment_setup.ipynb` notebook."
   ]
  },
  {
   "cell_type": "code",
   "execution_count": 4,
   "metadata": {
    "tags": []
   },
   "outputs": [
    {
     "name": "stdout",
     "output_type": "stream",
     "text": [
      "\n",
      "BUCKET_NAME          = \"orange-ml-demo-fraudfinder\"\n",
      "PROJECT              = \"orange-ml-demo\"\n",
      "REGION               = \"us-central1\"\n",
      "ID                   = \"zv7r3\"\n",
      "FEATURESTORE_ID      = \"fraudfinder_zv7r3\"\n",
      "MODEL_NAME           = \"ff_model\"\n",
      "ENDPOINT_NAME        = \"ff_model_endpoint\"\n",
      "TRAINING_DS_SIZE     = \"1000\"\n",
      "\n"
     ]
    }
   ],
   "source": [
    "PROJECT_ID = GCP_PROJECTS[0]\n",
    "BUCKET_NAME = f\"{PROJECT_ID}-fraudfinder\"\n",
    "config = !gsutil cat gs://{BUCKET_NAME}/config/notebook_env.py\n",
    "print(config.n)\n",
    "exec(config.n)"
   ]
  },
  {
   "cell_type": "markdown",
   "metadata": {
    "id": "11d8e5a98a80"
   },
   "source": [
    "### Import libraries"
   ]
  },
  {
   "cell_type": "code",
   "execution_count": 10,
   "metadata": {
    "id": "0c4746a0c78c",
    "tags": []
   },
   "outputs": [],
   "source": [
    "from typing import Union\n",
    "\n",
    "import pandas as pd\n",
    "import bigframes.pandas as bpd\n",
    "import plotly.express as px\n",
    "from google.cloud import bigquery"
   ]
  },
  {
   "cell_type": "markdown",
   "metadata": {
    "id": "7ab0ce87d99e"
   },
   "source": [
    "#### Initialize BigQuery SDK for Python "
   ]
  },
  {
   "cell_type": "markdown",
   "metadata": {
    "id": "f7aec2f1e516"
   },
   "source": [
    "Use a helper function for sending queries to BigQuery."
   ]
  },
  {
   "cell_type": "code",
   "execution_count": 6,
   "metadata": {
    "id": "079accfc15e2",
    "tags": []
   },
   "outputs": [],
   "source": [
    "# Wrapper to use BigQuery client to run query/job, return job ID or result as DF\n",
    "def run_bq_query(sql: str) -> Union[str, pd.DataFrame]:\n",
    "    \"\"\"\n",
    "    Run a BigQuery query and return the job ID or result as a DataFrame\n",
    "    Args:\n",
    "        sql: SQL query, as a string, to execute in BigQuery\n",
    "    Returns:\n",
    "        df: DataFrame of results from query,  or error, if any\n",
    "    \"\"\"\n",
    "\n",
    "    bq_client = bigquery.Client(project = PROJECT_ID)\n",
    "\n",
    "    # Try dry run before executing query to catch any errors\n",
    "    job_config = bigquery.QueryJobConfig(dry_run=True, use_query_cache=False)\n",
    "    bq_client.query(sql, job_config=job_config)\n",
    "\n",
    "    # If dry run succeeds without errors, proceed to run query\n",
    "    job_config = bigquery.QueryJobConfig()\n",
    "    client_result = bq_client.query(sql, job_config=job_config)\n",
    "\n",
    "    job_id = client_result.job_id\n",
    "\n",
    "    # Wait for query/job to finish running. then get & return data frame\n",
    "    df = client_result.result().to_arrow().to_pandas()\n",
    "    print(f\"Finished job_id: {job_id}\")\n",
    "    return df"
   ]
  },
  {
   "cell_type": "markdown",
   "metadata": {
    "id": "dde60686aa82"
   },
   "source": [
    "### Exploratory data analysis of transaction data in BigQuery\n",
    "\n",
    "In this section, you'll explore some of the FraudFinder data by running queries and creating a couple interactive plots."
   ]
  },
  {
   "cell_type": "markdown",
   "metadata": {
    "id": "4f3ff222dea9"
   },
   "source": [
    "#### Get transaction data summary statistics\n",
    "First, you generate some summary statistics across the different fields in the transaction data."
   ]
  },
  {
   "cell_type": "code",
   "execution_count": 7,
   "metadata": {
    "id": "f0405eb973fb",
    "tags": []
   },
   "outputs": [
    {
     "name": "stdout",
     "output_type": "stream",
     "text": [
      "Finished job_id: a82f46be-33f6-499d-a735-8195b0ec9f92\n"
     ]
    },
    {
     "data": {
      "text/html": [
       "<div>\n",
       "<style scoped>\n",
       "    .dataframe tbody tr th:only-of-type {\n",
       "        vertical-align: middle;\n",
       "    }\n",
       "\n",
       "    .dataframe tbody tr th {\n",
       "        vertical-align: top;\n",
       "    }\n",
       "\n",
       "    .dataframe thead th {\n",
       "        text-align: right;\n",
       "    }\n",
       "</style>\n",
       "<table border=\"1\" class=\"dataframe\">\n",
       "  <thead>\n",
       "    <tr style=\"text-align: right;\">\n",
       "      <th></th>\n",
       "      <th>NUM_TX</th>\n",
       "      <th>MIN_TX_DATE</th>\n",
       "      <th>MAX_TX_DATE</th>\n",
       "      <th>NUM_CUSTOMERS</th>\n",
       "      <th>NUM_TERMINALS</th>\n",
       "      <th>MIN_TX_AMOUNT</th>\n",
       "      <th>AVG_TX_AMOUNT</th>\n",
       "      <th>MAX_TX_AMOUNT</th>\n",
       "    </tr>\n",
       "  </thead>\n",
       "  <tbody>\n",
       "    <tr>\n",
       "      <th>0</th>\n",
       "      <td>73968721</td>\n",
       "      <td>2022-01-01 00:00:00+00:00</td>\n",
       "      <td>2024-01-01 00:12:40+00:00</td>\n",
       "      <td>49984</td>\n",
       "      <td>5000</td>\n",
       "      <td>0E-9</td>\n",
       "      <td>55.152796713</td>\n",
       "      <td>1101.550000000</td>\n",
       "    </tr>\n",
       "  </tbody>\n",
       "</table>\n",
       "</div>"
      ],
      "text/plain": [
       "     NUM_TX               MIN_TX_DATE               MAX_TX_DATE  \\\n",
       "0  73968721 2022-01-01 00:00:00+00:00 2024-01-01 00:12:40+00:00   \n",
       "\n",
       "   NUM_CUSTOMERS  NUM_TERMINALS MIN_TX_AMOUNT AVG_TX_AMOUNT   MAX_TX_AMOUNT  \n",
       "0          49984           5000          0E-9  55.152796713  1101.550000000  "
      ]
     },
     "execution_count": 7,
     "metadata": {},
     "output_type": "execute_result"
    }
   ],
   "source": [
    "run_bq_query(\n",
    "    \"\"\"\n",
    "    SELECT\n",
    "      COUNT(*) AS NUM_TX,\n",
    "\n",
    "      MIN(TX_TS) AS MIN_TX_DATE,\n",
    "      MAX(TX_TS) AS MAX_TX_DATE,\n",
    "\n",
    "      COUNT(DISTINCT CUSTOMER_ID) AS NUM_CUSTOMERS,\n",
    "      COUNT(DISTINCT TERMINAL_ID) AS NUM_TERMINALS,\n",
    "\n",
    "      MIN(TX_AMOUNT) AS MIN_TX_AMOUNT,\n",
    "      AVG(TX_AMOUNT) AS AVG_TX_AMOUNT,\n",
    "      MAX(TX_AMOUNT) AS MAX_TX_AMOUNT\n",
    "\n",
    "    FROM\n",
    "      tx.tx\n",
    "    \"\"\"\n",
    ")"
   ]
  },
  {
   "cell_type": "markdown",
   "metadata": {
    "id": "3408867266eb"
   },
   "source": [
    "The results show that there are over 148M transactions spanning the course of 2022 and 2025, taking place at 5000 different terminals with nearly 50K unique customers. The transaction amounts vary from 0 to over 1100, with the mean amount being about 55 dollars.\n",
    "\n",
    "As of 2024, the data has been simulated into 2025, so that it is easier to do demonstrate some of the machine learning capabilities like evaluation in notebooks that you will be using later."
   ]
  },
  {
   "cell_type": "markdown",
   "metadata": {},
   "source": [
    "#### Running the query with BigQuery Dataframes\n",
    "BigQuery DataFrames (Preview) provides a Pythonic DataFrame and machine learning (ML) API powered by the BigQuery engine.\n",
    "\n",
    "* bigframes.pandas provides a pandas-compatible API for analytics.\n",
    "* bigframes.ml provides a scikit-learn-like API for ML.\n",
    "BigQuery DataFrames is an open-source package. You can run pip install --upgrade bigframes to install the latest version"
   ]
  },
  {
   "cell_type": "code",
   "execution_count": 61,
   "metadata": {
    "tags": []
   },
   "outputs": [],
   "source": [
    "bdf_tx = bpd.read_gbq(f\"{PROJECT_ID}.tx.tx\")"
   ]
  },
  {
   "cell_type": "code",
   "execution_count": 62,
   "metadata": {
    "tags": []
   },
   "outputs": [
    {
     "data": {
      "text/html": [
       "Query job b2d29f79-dc0b-4e14-9692-1a2ebb090e5a is DONE. 7.0 GB processed. <a target=\"_blank\" href=\"https://console.cloud.google.com/bigquery?project=orange-ml-demo&j=bq:us-central1:b2d29f79-dc0b-4e14-9692-1a2ebb090e5a&page=queryresults\">Open Job</a>"
      ],
      "text/plain": [
       "<IPython.core.display.HTML object>"
      ]
     },
     "metadata": {},
     "output_type": "display_data"
    },
    {
     "data": {
      "text/html": [
       "Query job f7590614-230c-4023-8943-9538c92187b6 is DONE. 7.0 GB processed. <a target=\"_blank\" href=\"https://console.cloud.google.com/bigquery?project=orange-ml-demo&j=bq:us-central1:f7590614-230c-4023-8943-9538c92187b6&page=queryresults\">Open Job</a>"
      ],
      "text/plain": [
       "<IPython.core.display.HTML object>"
      ]
     },
     "metadata": {},
     "output_type": "display_data"
    },
    {
     "data": {
      "text/html": [
       "<div>\n",
       "<style scoped>\n",
       "    .dataframe tbody tr th:only-of-type {\n",
       "        vertical-align: middle;\n",
       "    }\n",
       "\n",
       "    .dataframe tbody tr th {\n",
       "        vertical-align: top;\n",
       "    }\n",
       "\n",
       "    .dataframe thead th {\n",
       "        text-align: right;\n",
       "    }\n",
       "</style>\n",
       "<table border=\"1\" class=\"dataframe\">\n",
       "  <thead>\n",
       "    <tr style=\"text-align: right;\">\n",
       "      <th></th>\n",
       "      <th>TX_ID</th>\n",
       "      <th>TX_TS</th>\n",
       "      <th>CUSTOMER_ID</th>\n",
       "      <th>TERMINAL_ID</th>\n",
       "      <th>TX_AMOUNT</th>\n",
       "    </tr>\n",
       "  </thead>\n",
       "  <tbody>\n",
       "    <tr>\n",
       "      <th>0</th>\n",
       "      <td>43eaf55a264a39b7d68ba96102b231453f0c0682</td>\n",
       "      <td>2023-01-25 02:41:21+00:00</td>\n",
       "      <td>1221481630749342</td>\n",
       "      <td>87156608</td>\n",
       "      <td>14.990000000</td>\n",
       "    </tr>\n",
       "    <tr>\n",
       "      <th>1</th>\n",
       "      <td>cb25aada4a7bff390d688f68927fcc04b700aaf6</td>\n",
       "      <td>2023-09-03 09:02:47+00:00</td>\n",
       "      <td>2699340061069102</td>\n",
       "      <td>68885177</td>\n",
       "      <td>26.950000000</td>\n",
       "    </tr>\n",
       "    <tr>\n",
       "      <th>2</th>\n",
       "      <td>9c4162197deb562a2a011d45341ae62122a46c5c</td>\n",
       "      <td>2022-04-06 19:12:24+00:00</td>\n",
       "      <td>0985771247432105</td>\n",
       "      <td>03935526</td>\n",
       "      <td>95.300000000</td>\n",
       "    </tr>\n",
       "    <tr>\n",
       "      <th>3</th>\n",
       "      <td>57db42f5e59e0055a7d5869e51a27f0b7b5b2bd3</td>\n",
       "      <td>2022-09-26 02:05:59+00:00</td>\n",
       "      <td>7407998643616158</td>\n",
       "      <td>27222215</td>\n",
       "      <td>95.440000000</td>\n",
       "    </tr>\n",
       "    <tr>\n",
       "      <th>4</th>\n",
       "      <td>dff274b7ad8c7d3af21b5cf49e830337e82f9391</td>\n",
       "      <td>2023-03-08 12:45:38+00:00</td>\n",
       "      <td>7717343913739160</td>\n",
       "      <td>60482124</td>\n",
       "      <td>80.800000000</td>\n",
       "    </tr>\n",
       "  </tbody>\n",
       "</table>\n",
       "<p>5 rows × 5 columns</p>\n",
       "</div>[5 rows x 5 columns in total]"
      ],
      "text/plain": [
       "                                      TX_ID                      TX_TS  \\\n",
       "0  43eaf55a264a39b7d68ba96102b231453f0c0682  2023-01-25 02:41:21+00:00   \n",
       "1  cb25aada4a7bff390d688f68927fcc04b700aaf6  2023-09-03 09:02:47+00:00   \n",
       "2  9c4162197deb562a2a011d45341ae62122a46c5c  2022-04-06 19:12:24+00:00   \n",
       "3  57db42f5e59e0055a7d5869e51a27f0b7b5b2bd3  2022-09-26 02:05:59+00:00   \n",
       "4  dff274b7ad8c7d3af21b5cf49e830337e82f9391  2023-03-08 12:45:38+00:00   \n",
       "\n",
       "        CUSTOMER_ID TERMINAL_ID     TX_AMOUNT  \n",
       "0  1221481630749342    87156608  14.990000000  \n",
       "1  2699340061069102    68885177  26.950000000  \n",
       "2  0985771247432105    03935526  95.300000000  \n",
       "3  7407998643616158    27222215  95.440000000  \n",
       "4  7717343913739160    60482124  80.800000000  \n",
       "\n",
       "[5 rows x 5 columns]"
      ]
     },
     "execution_count": 62,
     "metadata": {},
     "output_type": "execute_result"
    }
   ],
   "source": [
    "bdf_tx.head()"
   ]
  },
  {
   "cell_type": "code",
   "execution_count": 63,
   "metadata": {
    "tags": []
   },
   "outputs": [
    {
     "data": {
      "text/html": [
       "Query job bf8da06f-104f-421b-bbc6-8a57502b5582 is DONE. 0 Bytes processed. <a target=\"_blank\" href=\"https://console.cloud.google.com/bigquery?project=orange-ml-demo&j=bq:us-central1:bf8da06f-104f-421b-bbc6-8a57502b5582&page=queryresults\">Open Job</a>"
      ],
      "text/plain": [
       "<IPython.core.display.HTML object>"
      ]
     },
     "metadata": {},
     "output_type": "display_data"
    },
    {
     "data": {
      "text/html": [
       "Query job ad5971a8-98ca-4cb5-8e15-867676d75e22 is DONE. 591.7 MB processed. <a target=\"_blank\" href=\"https://console.cloud.google.com/bigquery?project=orange-ml-demo&j=bq:us-central1:ad5971a8-98ca-4cb5-8e15-867676d75e22&page=queryresults\">Open Job</a>"
      ],
      "text/plain": [
       "<IPython.core.display.HTML object>"
      ]
     },
     "metadata": {},
     "output_type": "display_data"
    },
    {
     "data": {
      "text/html": [
       "Query job c6a15f90-115e-4286-bb6f-b20c97daaca7 is DONE. 591.7 MB processed. <a target=\"_blank\" href=\"https://console.cloud.google.com/bigquery?project=orange-ml-demo&j=bq:us-central1:c6a15f90-115e-4286-bb6f-b20c97daaca7&page=queryresults\">Open Job</a>"
      ],
      "text/plain": [
       "<IPython.core.display.HTML object>"
      ]
     },
     "metadata": {},
     "output_type": "display_data"
    },
    {
     "data": {
      "text/html": [
       "Query job 6f5be4af-fc0c-40c8-ad0b-043eb770f12f is DONE. 1.3 GB processed. <a target=\"_blank\" href=\"https://console.cloud.google.com/bigquery?project=orange-ml-demo&j=bq:us-central1:6f5be4af-fc0c-40c8-ad0b-043eb770f12f&page=queryresults\">Open Job</a>"
      ],
      "text/plain": [
       "<IPython.core.display.HTML object>"
      ]
     },
     "metadata": {},
     "output_type": "display_data"
    },
    {
     "data": {
      "text/html": [
       "Query job 3f9cbe33-dcde-43a6-bcd6-6421570c2490 is DONE. 739.7 MB processed. <a target=\"_blank\" href=\"https://console.cloud.google.com/bigquery?project=orange-ml-demo&j=bq:us-central1:3f9cbe33-dcde-43a6-bcd6-6421570c2490&page=queryresults\">Open Job</a>"
      ],
      "text/plain": [
       "<IPython.core.display.HTML object>"
      ]
     },
     "metadata": {},
     "output_type": "display_data"
    },
    {
     "data": {
      "text/html": [
       "Query job 7c375c29-59ae-48c8-b48a-a00f92158294 is DONE. 1.2 GB processed. <a target=\"_blank\" href=\"https://console.cloud.google.com/bigquery?project=orange-ml-demo&j=bq:us-central1:7c375c29-59ae-48c8-b48a-a00f92158294&page=queryresults\">Open Job</a>"
      ],
      "text/plain": [
       "<IPython.core.display.HTML object>"
      ]
     },
     "metadata": {},
     "output_type": "display_data"
    },
    {
     "data": {
      "text/html": [
       "Query job b3862771-95a2-40e9-b8db-77c500508fc5 is DONE. 1.2 GB processed. <a target=\"_blank\" href=\"https://console.cloud.google.com/bigquery?project=orange-ml-demo&j=bq:us-central1:b3862771-95a2-40e9-b8db-77c500508fc5&page=queryresults\">Open Job</a>"
      ],
      "text/plain": [
       "<IPython.core.display.HTML object>"
      ]
     },
     "metadata": {},
     "output_type": "display_data"
    },
    {
     "data": {
      "text/html": [
       "Query job dc8a8efc-c221-407c-8839-e0a2e4d0e549 is DONE. 1.2 GB processed. <a target=\"_blank\" href=\"https://console.cloud.google.com/bigquery?project=orange-ml-demo&j=bq:us-central1:dc8a8efc-c221-407c-8839-e0a2e4d0e549&page=queryresults\">Open Job</a>"
      ],
      "text/plain": [
       "<IPython.core.display.HTML object>"
      ]
     },
     "metadata": {},
     "output_type": "display_data"
    },
    {
     "data": {
      "text/html": [
       "Query job 9cf46728-f796-4b53-929b-1cb12e47c96a is DONE. 0 Bytes processed. <a target=\"_blank\" href=\"https://console.cloud.google.com/bigquery?project=orange-ml-demo&j=bq:us-central1:9cf46728-f796-4b53-929b-1cb12e47c96a&page=queryresults\">Open Job</a>"
      ],
      "text/plain": [
       "<IPython.core.display.HTML object>"
      ]
     },
     "metadata": {},
     "output_type": "display_data"
    },
    {
     "data": {
      "text/html": [
       "<div>\n",
       "<style scoped>\n",
       "    .dataframe tbody tr th:only-of-type {\n",
       "        vertical-align: middle;\n",
       "    }\n",
       "\n",
       "    .dataframe tbody tr th {\n",
       "        vertical-align: top;\n",
       "    }\n",
       "\n",
       "    .dataframe thead th {\n",
       "        text-align: right;\n",
       "    }\n",
       "</style>\n",
       "<table border=\"1\" class=\"dataframe\">\n",
       "  <thead>\n",
       "    <tr style=\"text-align: right;\">\n",
       "      <th></th>\n",
       "      <th>NUM_TX</th>\n",
       "      <th>MIN_TX_DATE</th>\n",
       "      <th>MAX_TX_DATE</th>\n",
       "      <th>NUM_CUSTOMERS</th>\n",
       "      <th>NUM_TERMINALS</th>\n",
       "      <th>MIN_TX_AMOUNT</th>\n",
       "      <th>AVG_TX_AMOUNT</th>\n",
       "      <th>MAX_TX_AMOUNT</th>\n",
       "    </tr>\n",
       "  </thead>\n",
       "  <tbody>\n",
       "    <tr>\n",
       "      <th>0</th>\n",
       "      <td>73968721</td>\n",
       "      <td>2022-01-01 00:00:00+00:00</td>\n",
       "      <td>2024-01-01 00:12:40+00:00</td>\n",
       "      <td>49984</td>\n",
       "      <td>5000</td>\n",
       "      <td>0.0</td>\n",
       "      <td>55.152797</td>\n",
       "      <td>1101.55</td>\n",
       "    </tr>\n",
       "  </tbody>\n",
       "</table>\n",
       "<p>1 rows × 8 columns</p>\n",
       "</div>[1 rows x 8 columns in total]"
      ],
      "text/plain": [
       "     NUM_TX                MIN_TX_DATE                MAX_TX_DATE  \\\n",
       "0  73968721  2022-01-01 00:00:00+00:00  2024-01-01 00:12:40+00:00   \n",
       "\n",
       "   NUM_CUSTOMERS  NUM_TERMINALS  MIN_TX_AMOUNT  AVG_TX_AMOUNT  MAX_TX_AMOUNT  \n",
       "0          49984           5000            0.0      55.152797        1101.55  \n",
       "\n",
       "[1 rows x 8 columns]"
      ]
     },
     "execution_count": 63,
     "metadata": {},
     "output_type": "execute_result"
    }
   ],
   "source": [
    "bpd.DataFrame({'NUM_TX': [len(bdf_tx)],\n",
    "              'MIN_TX_DATE': [str(bdf_tx['TX_TS'].min())],\n",
    "              'MAX_TX_DATE': [str(bdf_tx['TX_TS'].max())],\n",
    "              'NUM_CUSTOMERS' : [bdf_tx['CUSTOMER_ID'].nunique()],\n",
    "              'NUM_TERMINALS' : [bdf_tx['TERMINAL_ID'].nunique()],\n",
    "              'MIN_TX_AMOUNT' : [float(bdf_tx['TX_AMOUNT'].min())],\n",
    "              'AVG_TX_AMOUNT' : [float(bdf_tx['TX_AMOUNT'].mean())],\n",
    "              'MAX_TX_AMOUNT' : [float(bdf_tx['TX_AMOUNT'].max())]\n",
    "             })"
   ]
  },
  {
   "cell_type": "markdown",
   "metadata": {
    "id": "b7b3266f39a6"
   },
   "source": [
    "#### Get fraud classification counts and percentages\n",
    "Next, you look at the fraud label data to see how many (and what percentage of) transactions are classified as fraud or not."
   ]
  },
  {
   "cell_type": "code",
   "execution_count": 65,
   "metadata": {
    "id": "daf0467aaeb5",
    "tags": []
   },
   "outputs": [
    {
     "name": "stdout",
     "output_type": "stream",
     "text": [
      "Finished job_id: d747e219-b184-4989-a47a-05ce382738a6\n"
     ]
    },
    {
     "data": {
      "text/html": [
       "<div>\n",
       "<style scoped>\n",
       "    .dataframe tbody tr th:only-of-type {\n",
       "        vertical-align: middle;\n",
       "    }\n",
       "\n",
       "    .dataframe tbody tr th {\n",
       "        vertical-align: top;\n",
       "    }\n",
       "\n",
       "    .dataframe thead th {\n",
       "        text-align: right;\n",
       "    }\n",
       "</style>\n",
       "<table border=\"1\" class=\"dataframe\">\n",
       "  <thead>\n",
       "    <tr style=\"text-align: right;\">\n",
       "      <th></th>\n",
       "      <th>TX_FRAUD</th>\n",
       "      <th>NUM_TX</th>\n",
       "      <th>OVR_TOTAL_TX</th>\n",
       "      <th>PCT_TOTAL_TX</th>\n",
       "    </tr>\n",
       "  </thead>\n",
       "  <tbody>\n",
       "    <tr>\n",
       "      <th>0</th>\n",
       "      <td>0</td>\n",
       "      <td>72489095</td>\n",
       "      <td>73968721</td>\n",
       "      <td>0.979997</td>\n",
       "    </tr>\n",
       "    <tr>\n",
       "      <th>1</th>\n",
       "      <td>1</td>\n",
       "      <td>1479626</td>\n",
       "      <td>73968721</td>\n",
       "      <td>0.020003</td>\n",
       "    </tr>\n",
       "  </tbody>\n",
       "</table>\n",
       "</div>"
      ],
      "text/plain": [
       "   TX_FRAUD    NUM_TX  OVR_TOTAL_TX  PCT_TOTAL_TX\n",
       "0         0  72489095      73968721      0.979997\n",
       "1         1   1479626      73968721      0.020003"
      ]
     },
     "execution_count": 65,
     "metadata": {},
     "output_type": "execute_result"
    }
   ],
   "source": [
    "run_bq_query(\n",
    "    \"\"\"\n",
    "    SELECT\n",
    "      TX_FRAUD,\n",
    "\n",
    "      COUNT(*) AS NUM_TX,\n",
    "\n",
    "      /* Calculates number of total transactions (not grouped) */\n",
    "      SUM(COUNT(*)) OVER () AS OVR_TOTAL_TX,\n",
    "\n",
    "      /* Calculates number of transaction in this group as % of total */\n",
    "      SAFE_DIVIDE(\n",
    "        COUNT(*),\n",
    "        SUM(COUNT(*)) OVER ()\n",
    "        ) AS PCT_TOTAL_TX\n",
    "\n",
    "    FROM\n",
    "      tx.txlabels\n",
    "\n",
    "    GROUP BY\n",
    "      TX_FRAUD\n",
    "\n",
    "    ORDER BY\n",
    "      TX_FRAUD\n",
    "    \"\"\"\n",
    ")"
   ]
  },
  {
   "cell_type": "markdown",
   "metadata": {
    "id": "a2ee6b7cca4a"
   },
   "source": [
    "You can see that about 2% of transactions are fraudulent, while the remaining 98% of transactions are not labeled as fraud."
   ]
  },
  {
   "cell_type": "markdown",
   "metadata": {},
   "source": [
    "#### Running the query with BigQuery Dataframes"
   ]
  },
  {
   "cell_type": "code",
   "execution_count": 89,
   "metadata": {
    "tags": []
   },
   "outputs": [],
   "source": [
    "bdf_tx_labels = bpd.read_gbq(f\"{PROJECT_ID}.tx.txlabels\")\n",
    "grouped = bdf_tx_labels.groupby('TX_FRAUD')['TX_FRAUD'].count()\n",
    "total_tx = grouped.sum()\n",
    "result = grouped.to_frame(name='NUM_TX')\n",
    "result['OVR_TOTAL_TX'] = total_tx\n",
    "result['PCT_TOTAL_TX'] = result['NUM_TX'] / result['OVR_TOTAL_TX']"
   ]
  },
  {
   "cell_type": "code",
   "execution_count": 91,
   "metadata": {
    "tags": []
   },
   "outputs": [
    {
     "data": {
      "text/html": [
       "Query job b5caac96-46ec-481e-9874-0ef0d9f59973 is DONE. 591.7 MB processed. <a target=\"_blank\" href=\"https://console.cloud.google.com/bigquery?project=orange-ml-demo&j=bq:us-central1:b5caac96-46ec-481e-9874-0ef0d9f59973&page=queryresults\">Open Job</a>"
      ],
      "text/plain": [
       "<IPython.core.display.HTML object>"
      ]
     },
     "metadata": {},
     "output_type": "display_data"
    },
    {
     "data": {
      "text/html": [
       "Query job 24b4c7b1-06b6-4514-953a-562086ba9dc7 is DONE. 591.7 MB processed. <a target=\"_blank\" href=\"https://console.cloud.google.com/bigquery?project=orange-ml-demo&j=bq:us-central1:24b4c7b1-06b6-4514-953a-562086ba9dc7&page=queryresults\">Open Job</a>"
      ],
      "text/plain": [
       "<IPython.core.display.HTML object>"
      ]
     },
     "metadata": {},
     "output_type": "display_data"
    },
    {
     "data": {
      "text/html": [
       "<div>\n",
       "<style scoped>\n",
       "    .dataframe tbody tr th:only-of-type {\n",
       "        vertical-align: middle;\n",
       "    }\n",
       "\n",
       "    .dataframe tbody tr th {\n",
       "        vertical-align: top;\n",
       "    }\n",
       "\n",
       "    .dataframe thead th {\n",
       "        text-align: right;\n",
       "    }\n",
       "</style>\n",
       "<table border=\"1\" class=\"dataframe\">\n",
       "  <thead>\n",
       "    <tr style=\"text-align: right;\">\n",
       "      <th></th>\n",
       "      <th>NUM_TX</th>\n",
       "      <th>OVR_TOTAL_TX</th>\n",
       "      <th>PCT_TOTAL_TX</th>\n",
       "    </tr>\n",
       "    <tr>\n",
       "      <th>TX_FRAUD</th>\n",
       "      <th></th>\n",
       "      <th></th>\n",
       "      <th></th>\n",
       "    </tr>\n",
       "  </thead>\n",
       "  <tbody>\n",
       "    <tr>\n",
       "      <th>0</th>\n",
       "      <td>72489095</td>\n",
       "      <td>73968721</td>\n",
       "      <td>0.979997</td>\n",
       "    </tr>\n",
       "    <tr>\n",
       "      <th>1</th>\n",
       "      <td>1479626</td>\n",
       "      <td>73968721</td>\n",
       "      <td>0.020003</td>\n",
       "    </tr>\n",
       "  </tbody>\n",
       "</table>\n",
       "<p>2 rows × 3 columns</p>\n",
       "</div>[2 rows x 3 columns in total]"
      ],
      "text/plain": [
       "            NUM_TX  OVR_TOTAL_TX  PCT_TOTAL_TX\n",
       "TX_FRAUD                                      \n",
       "0         72489095      73968721      0.979997\n",
       "1          1479626      73968721      0.020003\n",
       "\n",
       "[2 rows x 3 columns]"
      ]
     },
     "execution_count": 91,
     "metadata": {},
     "output_type": "execute_result"
    }
   ],
   "source": [
    "result"
   ]
  },
  {
   "cell_type": "markdown",
   "metadata": {
    "id": "6552c3f71faa"
   },
   "source": [
    "#### Plot transaction amount distribution\n",
    "Next, you examine the distribution of transaction amounts more closely. After seeing above that the range is about 0 to 1100 dollars, you want to look at how often various transaction amounts across that range show up. Rather than bringing in all ~148M transactions amounts and plotting them, you can aggregate to the nearest dollar and count the number of observations in each dollar \"bucket\" using BigQuery."
   ]
  },
  {
   "cell_type": "code",
   "execution_count": 92,
   "metadata": {
    "id": "c41e0815b2b3",
    "tags": []
   },
   "outputs": [
    {
     "name": "stdout",
     "output_type": "stream",
     "text": [
      "Finished job_id: 5a85abc7-34a3-41db-a400-fa20d6943075\n"
     ]
    },
    {
     "data": {
      "text/html": [
       "<div>\n",
       "<style scoped>\n",
       "    .dataframe tbody tr th:only-of-type {\n",
       "        vertical-align: middle;\n",
       "    }\n",
       "\n",
       "    .dataframe tbody tr th {\n",
       "        vertical-align: top;\n",
       "    }\n",
       "\n",
       "    .dataframe thead th {\n",
       "        text-align: right;\n",
       "    }\n",
       "</style>\n",
       "<table border=\"1\" class=\"dataframe\">\n",
       "  <thead>\n",
       "    <tr style=\"text-align: right;\">\n",
       "      <th></th>\n",
       "      <th>ROUNDED_TX_AMOUNT</th>\n",
       "      <th>NUM_TX</th>\n",
       "    </tr>\n",
       "  </thead>\n",
       "  <tbody>\n",
       "    <tr>\n",
       "      <th>0</th>\n",
       "      <td>0E-9</td>\n",
       "      <td>12464</td>\n",
       "    </tr>\n",
       "    <tr>\n",
       "      <th>1</th>\n",
       "      <td>1.000000000</td>\n",
       "      <td>49388</td>\n",
       "    </tr>\n",
       "    <tr>\n",
       "      <th>2</th>\n",
       "      <td>2.000000000</td>\n",
       "      <td>104290</td>\n",
       "    </tr>\n",
       "    <tr>\n",
       "      <th>3</th>\n",
       "      <td>3.000000000</td>\n",
       "      <td>190959</td>\n",
       "    </tr>\n",
       "    <tr>\n",
       "      <th>4</th>\n",
       "      <td>4.000000000</td>\n",
       "      <td>307669</td>\n",
       "    </tr>\n",
       "    <tr>\n",
       "      <th>...</th>\n",
       "      <td>...</td>\n",
       "      <td>...</td>\n",
       "    </tr>\n",
       "    <tr>\n",
       "      <th>909</th>\n",
       "      <td>950.000000000</td>\n",
       "      <td>1</td>\n",
       "    </tr>\n",
       "    <tr>\n",
       "      <th>910</th>\n",
       "      <td>951.000000000</td>\n",
       "      <td>1</td>\n",
       "    </tr>\n",
       "    <tr>\n",
       "      <th>911</th>\n",
       "      <td>960.000000000</td>\n",
       "      <td>1</td>\n",
       "    </tr>\n",
       "    <tr>\n",
       "      <th>912</th>\n",
       "      <td>993.000000000</td>\n",
       "      <td>1</td>\n",
       "    </tr>\n",
       "    <tr>\n",
       "      <th>913</th>\n",
       "      <td>1102.000000000</td>\n",
       "      <td>1</td>\n",
       "    </tr>\n",
       "  </tbody>\n",
       "</table>\n",
       "<p>914 rows × 2 columns</p>\n",
       "</div>"
      ],
      "text/plain": [
       "    ROUNDED_TX_AMOUNT  NUM_TX\n",
       "0                0E-9   12464\n",
       "1         1.000000000   49388\n",
       "2         2.000000000  104290\n",
       "3         3.000000000  190959\n",
       "4         4.000000000  307669\n",
       "..                ...     ...\n",
       "909     950.000000000       1\n",
       "910     951.000000000       1\n",
       "911     960.000000000       1\n",
       "912     993.000000000       1\n",
       "913    1102.000000000       1\n",
       "\n",
       "[914 rows x 2 columns]"
      ]
     },
     "execution_count": 92,
     "metadata": {},
     "output_type": "execute_result"
    }
   ],
   "source": [
    "transaction_amount_dist = run_bq_query(\n",
    "    \"\"\"\n",
    "    SELECT\n",
    "      /* Round transaction to nearest dollar, use to group */\n",
    "      ROUND(TX_AMOUNT, 0) AS ROUNDED_TX_AMOUNT,\n",
    "      COUNT(*) AS NUM_TX\n",
    "\n",
    "    FROM\n",
    "      tx.tx\n",
    "\n",
    "    GROUP BY\n",
    "      ROUNDED_TX_AMOUNT\n",
    "\n",
    "    ORDER BY\n",
    "      ROUNDED_TX_AMOUNT\n",
    "    \"\"\"\n",
    ")\n",
    "\n",
    "transaction_amount_dist"
   ]
  },
  {
   "cell_type": "markdown",
   "metadata": {
    "id": "81e3664b40a6"
   },
   "source": [
    "You can display the results as a histogram using the functionality to build interactive bar charts in [Plotly Express](https://plotly.com/python/bar-charts/)."
   ]
  },
  {
   "cell_type": "code",
   "execution_count": 93,
   "metadata": {
    "id": "54039166d146",
    "tags": []
   },
   "outputs": [
    {
     "data": {
      "text/html": [
       "<iframe\n",
       "    scrolling=\"no\"\n",
       "    width=\"100%\"\n",
       "    height=\"545px\"\n",
       "    src=\"iframe_figures/figure_93.html\"\n",
       "    frameborder=\"0\"\n",
       "    allowfullscreen\n",
       "></iframe>\n"
      ]
     },
     "metadata": {},
     "output_type": "display_data"
    }
   ],
   "source": [
    "# Create histogram of transaction amounts\n",
    "transaction_amount_interactive_histogram = px.bar(\n",
    "    transaction_amount_dist,\n",
    "    x=\"ROUNDED_TX_AMOUNT\",\n",
    "    y=\"NUM_TX\",\n",
    "    labels={\n",
    "        \"ROUNDED_TX_AMOUNT\": \"Transaction Amount (to nearest $)\",\n",
    "        \"NUM_TX\": \"# of Transactions\",\n",
    "    },\n",
    "    title=\"Number of Transactions by Amount\",\n",
    ")\n",
    "\n",
    "transaction_amount_interactive_histogram.show()"
   ]
  },
  {
   "cell_type": "markdown",
   "metadata": {
    "id": "9f4d4fe51a13"
   },
   "source": [
    "You can see that the vast majority of transaction amounts are 125 dollars or less, with a steady \"plateau\" of 700K-800K transactions at each dollar amount from about 10 to 80. One advantage of the interactive bar chart is that you can zoom in to different areas (e.g. the bars are hard to see past 100 or so on the default plot, so reducing the y-axis helps) and then hover over different bars to see the actual numbers."
   ]
  },
  {
   "cell_type": "markdown",
   "metadata": {
    "id": "14113c7dbf4d"
   },
   "source": [
    "#### Analyze customer-level aggregates of transaction data\n",
    "After looking at the data on individual transactions in a couple different ways, you now look at the transaction data aggregated to the customer level. The query below gets three summary values for each customer in the dataset:\n",
    "*   number of transactions\n",
    "*   average transaction value\n",
    "*   percentage of transactions that are fraudulent"
   ]
  },
  {
   "cell_type": "code",
   "execution_count": 94,
   "metadata": {
    "id": "e3ae4a0f60f6",
    "tags": []
   },
   "outputs": [
    {
     "name": "stdout",
     "output_type": "stream",
     "text": [
      "Finished job_id: 63a77bee-1c7f-4d0a-87e5-5791976fc4cf\n"
     ]
    },
    {
     "data": {
      "text/html": [
       "<div>\n",
       "<style scoped>\n",
       "    .dataframe tbody tr th:only-of-type {\n",
       "        vertical-align: middle;\n",
       "    }\n",
       "\n",
       "    .dataframe tbody tr th {\n",
       "        vertical-align: top;\n",
       "    }\n",
       "\n",
       "    .dataframe thead th {\n",
       "        text-align: right;\n",
       "    }\n",
       "</style>\n",
       "<table border=\"1\" class=\"dataframe\">\n",
       "  <thead>\n",
       "    <tr style=\"text-align: right;\">\n",
       "      <th></th>\n",
       "      <th>CUSTOMER_ID</th>\n",
       "      <th>NUM_TX</th>\n",
       "      <th>AVG_TX_AMOUNT</th>\n",
       "      <th>PCT_TX_FRAUD</th>\n",
       "    </tr>\n",
       "  </thead>\n",
       "  <tbody>\n",
       "    <tr>\n",
       "      <th>0</th>\n",
       "      <td>3421182254942355</td>\n",
       "      <td>2801</td>\n",
       "      <td>10.103181007</td>\n",
       "      <td>0.000357</td>\n",
       "    </tr>\n",
       "    <tr>\n",
       "      <th>1</th>\n",
       "      <td>5755162810173312</td>\n",
       "      <td>2142</td>\n",
       "      <td>70.659080299</td>\n",
       "      <td>0.026144</td>\n",
       "    </tr>\n",
       "    <tr>\n",
       "      <th>2</th>\n",
       "      <td>4371069907865457</td>\n",
       "      <td>2291</td>\n",
       "      <td>23.109580969</td>\n",
       "      <td>0.022261</td>\n",
       "    </tr>\n",
       "    <tr>\n",
       "      <th>3</th>\n",
       "      <td>2333812774760192</td>\n",
       "      <td>2061</td>\n",
       "      <td>6.790203785</td>\n",
       "      <td>0.000485</td>\n",
       "    </tr>\n",
       "    <tr>\n",
       "      <th>4</th>\n",
       "      <td>4732264206945358</td>\n",
       "      <td>2325</td>\n",
       "      <td>11.446068817</td>\n",
       "      <td>0.030538</td>\n",
       "    </tr>\n",
       "  </tbody>\n",
       "</table>\n",
       "</div>"
      ],
      "text/plain": [
       "        CUSTOMER_ID  NUM_TX AVG_TX_AMOUNT  PCT_TX_FRAUD\n",
       "0  3421182254942355    2801  10.103181007      0.000357\n",
       "1  5755162810173312    2142  70.659080299      0.026144\n",
       "2  4371069907865457    2291  23.109580969      0.022261\n",
       "3  2333812774760192    2061   6.790203785      0.000485\n",
       "4  4732264206945358    2325  11.446068817      0.030538"
      ]
     },
     "execution_count": 94,
     "metadata": {},
     "output_type": "execute_result"
    }
   ],
   "source": [
    "customer_aggregates = run_bq_query(\n",
    "    \"\"\"\n",
    "    SELECT\n",
    "      CUSTOMER_ID,\n",
    "      COUNT(*) AS NUM_TX,\n",
    "      AVG(TX_AMOUNT) AS AVG_TX_AMOUNT,\n",
    "\n",
    "      /* Get % of transactions that are fraudulent, accounting for\n",
    "         possibility of missing fraud labels */\n",
    "      SAFE_DIVIDE(\n",
    "        SUM(IF(TX_FRAUD IS NOT NULL, TX_FRAUD, 0)),\n",
    "        SUM(IF(TX_FRAUD IS NOT NULL, 1, 0))\n",
    "        ) AS PCT_TX_FRAUD\n",
    "\n",
    "    FROM\n",
    "      `tx.tx`\n",
    "\n",
    "    /* Join to labels data to get fraud status of each transaction */\n",
    "    LEFT JOIN\n",
    "      `tx.txlabels` USING (TX_ID)\n",
    "\n",
    "    GROUP BY\n",
    "      CUSTOMER_ID\n",
    "    \"\"\"\n",
    ")\n",
    "\n",
    "customer_aggregates.head()"
   ]
  },
  {
   "cell_type": "markdown",
   "metadata": {
    "id": "89211995e425"
   },
   "source": [
    "You can now explore this customer data further using [Plotly's scatter plot functionality](https://plotly.com/python/line-and-scatter/) to look at each customer's average transaction value vs number of transactions in an interactive plot. The code below does that, while also coloring points by the percentage of a customer's transactions that are fraudulent."
   ]
  },
  {
   "cell_type": "code",
   "execution_count": 96,
   "metadata": {
    "id": "6460910cc6ec",
    "tags": []
   },
   "outputs": [
    {
     "data": {
      "text/html": [
       "<iframe\n",
       "    scrolling=\"no\"\n",
       "    width=\"100%\"\n",
       "    height=\"545px\"\n",
       "    src=\"iframe_figures/figure_96.html\"\n",
       "    frameborder=\"0\"\n",
       "    allowfullscreen\n",
       "></iframe>\n"
      ]
     },
     "metadata": {},
     "output_type": "display_data"
    }
   ],
   "source": [
    "customer_aggregates_scatter_plot = px.scatter(\n",
    "    customer_aggregates,\n",
    "    x=\"NUM_TX\",\n",
    "    y=\"AVG_TX_AMOUNT\",\n",
    "    color=\"PCT_TX_FRAUD\",\n",
    "    labels={\n",
    "        \"CUSTOMER_ID\": \"Customer ID\",\n",
    "        \"NUM_TX\": \"# of Transactions\",\n",
    "        \"AVG_TX_AMOUNT\": \"Avg Transaction Amount ($)\",\n",
    "        \"PCT_TX_FRAUD\": \"% of Transactions That Are Fraud\",\n",
    "    },\n",
    "    hover_data=[\"CUSTOMER_ID\"],\n",
    "    title=(\n",
    "        \"<b>Customer-Level Transaction Aggregates</b><br>\"\n",
    "        + \"(Each Point is 1 Customer, Colored by % of Fraud Transactions)\"\n",
    "    ),\n",
    ")\n",
    "\n",
    "customer_aggregates_scatter_plot.show()"
   ]
  },
  {
   "cell_type": "markdown",
   "metadata": {
    "id": "43e521da16bf"
   },
   "source": [
    "The plot above shows that the vast majority of customers have less than 3000 transactions with an average value of 100 or less, and most of those appear to have very low fraud rates. But there's a cluster of customers at the far right with a very large number of transactions (in the 3000-6000 range), some of whom who have very high average transaction values (from 100 to more than 300 dollars). And the customers in this group with very high transaction counts also have an extremely high rate of fraud: all upwards of 60%, with some at nearly 100% fraud.\n",
    "\n",
    "These trends found in the data are definitely worth keeping in mind as you think about how to construct a model to predict fraudulent transactions.\n",
    "\n",
    "Note that because this is simulated data, the graph is unlikely to be very realistic (!) so consider this more of an exercise in understanding the workflow you may encounter and the products on Google Cloud that can help you solve for real-time fraud classification along the way."
   ]
  },
  {
   "cell_type": "markdown",
   "metadata": {},
   "source": [
    "#### Perform clusterization of fraudulents transactions with k-Means"
   ]
  },
  {
   "cell_type": "code",
   "execution_count": 119,
   "metadata": {
    "tags": []
   },
   "outputs": [],
   "source": [
    "from bigframes.ml.cluster import KMeans\n",
    "n_clusters = 3\n",
    "cluster_model = KMeans(n_clusters=n_clusters) "
   ]
  },
  {
   "cell_type": "code",
   "execution_count": 106,
   "metadata": {
    "tags": []
   },
   "outputs": [
    {
     "data": {
      "text/html": [
       "Load job 8fd8ef03-bf2b-4839-bf26-9622910cfe4b is DONE. <a target=\"_blank\" href=\"https://console.cloud.google.com/bigquery?project=orange-ml-demo&j=bq:us-central1:8fd8ef03-bf2b-4839-bf26-9622910cfe4b&page=queryresults\">Open Job</a>"
      ],
      "text/plain": [
       "<IPython.core.display.HTML object>"
      ]
     },
     "metadata": {},
     "output_type": "display_data"
    },
    {
     "name": "stderr",
     "output_type": "stream",
     "text": [
      "/opt/conda/lib/python3.10/site-packages/ibis/backends/bigquery/__init__.py:499: FutureWarning:\n",
      "\n",
      "`database` is deprecated as of v7.1, removed in v8.0; The bigquery backend cannot return a table expression using only a `database` specifier. Include a `schema` argument.\n",
      "\n"
     ]
    },
    {
     "data": {
      "text/html": [
       "Query job 71084e2c-e003-4696-87d2-38eb19ad35e9 is DONE. 2.4 MB processed. <a target=\"_blank\" href=\"https://console.cloud.google.com/bigquery?project=orange-ml-demo&j=bq:us-central1:71084e2c-e003-4696-87d2-38eb19ad35e9&page=queryresults\">Open Job</a>"
      ],
      "text/plain": [
       "<IPython.core.display.HTML object>"
      ]
     },
     "metadata": {},
     "output_type": "display_data"
    },
    {
     "data": {
      "text/html": [
       "Query job 7454fd57-3ac4-453b-ae8b-7a7fbf8ed336 is DONE. 1.6 MB processed. <a target=\"_blank\" href=\"https://console.cloud.google.com/bigquery?project=orange-ml-demo&j=bq:us-central1:7454fd57-3ac4-453b-ae8b-7a7fbf8ed336&page=queryresults\">Open Job</a>"
      ],
      "text/plain": [
       "<IPython.core.display.HTML object>"
      ]
     },
     "metadata": {},
     "output_type": "display_data"
    },
    {
     "data": {
      "text/plain": [
       "KMeans(n_clusters=3)"
      ]
     },
     "execution_count": 106,
     "metadata": {},
     "output_type": "execute_result"
    }
   ],
   "source": [
    "cluster_model.fit(bpd.DataFrame(customer_aggregates[['NUM_TX','AVG_TX_AMOUNT','PCT_TX_FRAUD']]))"
   ]
  },
  {
   "cell_type": "code",
   "execution_count": 109,
   "metadata": {
    "tags": []
   },
   "outputs": [
    {
     "data": {
      "text/html": [
       "Load job 35f0930d-c908-41fe-af32-969494a34c83 is DONE. <a target=\"_blank\" href=\"https://console.cloud.google.com/bigquery?project=orange-ml-demo&j=bq:us-central1:35f0930d-c908-41fe-af32-969494a34c83&page=queryresults\">Open Job</a>"
      ],
      "text/plain": [
       "<IPython.core.display.HTML object>"
      ]
     },
     "metadata": {},
     "output_type": "display_data"
    },
    {
     "name": "stderr",
     "output_type": "stream",
     "text": [
      "/opt/conda/lib/python3.10/site-packages/ibis/backends/bigquery/__init__.py:499: FutureWarning:\n",
      "\n",
      "`database` is deprecated as of v7.1, removed in v8.0; The bigquery backend cannot return a table expression using only a `database` specifier. Include a `schema` argument.\n",
      "\n"
     ]
    },
    {
     "data": {
      "text/html": [
       "Query job 1a982389-ed11-42f0-b5d3-e561005b05d2 is DONE. 2.0 MB processed. <a target=\"_blank\" href=\"https://console.cloud.google.com/bigquery?project=orange-ml-demo&j=bq:us-central1:1a982389-ed11-42f0-b5d3-e561005b05d2&page=queryresults\">Open Job</a>"
      ],
      "text/plain": [
       "<IPython.core.display.HTML object>"
      ]
     },
     "metadata": {},
     "output_type": "display_data"
    },
    {
     "data": {
      "text/html": [
       "Query job 8330a1c4-d704-43ab-b2ec-f3654355cdd4 is DONE. 399.9 kB processed. <a target=\"_blank\" href=\"https://console.cloud.google.com/bigquery?project=orange-ml-demo&j=bq:us-central1:8330a1c4-d704-43ab-b2ec-f3654355cdd4&page=queryresults\">Open Job</a>"
      ],
      "text/plain": [
       "<IPython.core.display.HTML object>"
      ]
     },
     "metadata": {},
     "output_type": "display_data"
    },
    {
     "data": {
      "text/html": [
       "Query job 3fa9b588-14b0-4f86-8c2a-75fe6ef44922 is DONE. 399.9 kB processed. <a target=\"_blank\" href=\"https://console.cloud.google.com/bigquery?project=orange-ml-demo&j=bq:us-central1:3fa9b588-14b0-4f86-8c2a-75fe6ef44922&page=queryresults\">Open Job</a>"
      ],
      "text/plain": [
       "<IPython.core.display.HTML object>"
      ]
     },
     "metadata": {},
     "output_type": "display_data"
    },
    {
     "data": {
      "text/html": [
       "Query job 2c7225db-0ba8-4b49-b959-1f051a746e2a is DONE. 4.8 MB processed. <a target=\"_blank\" href=\"https://console.cloud.google.com/bigquery?project=orange-ml-demo&j=bq:us-central1:2c7225db-0ba8-4b49-b959-1f051a746e2a&page=queryresults\">Open Job</a>"
      ],
      "text/plain": [
       "<IPython.core.display.HTML object>"
      ]
     },
     "metadata": {},
     "output_type": "display_data"
    },
    {
     "data": {
      "text/html": [
       "<div>\n",
       "<style scoped>\n",
       "    .dataframe tbody tr th:only-of-type {\n",
       "        vertical-align: middle;\n",
       "    }\n",
       "\n",
       "    .dataframe tbody tr th {\n",
       "        vertical-align: top;\n",
       "    }\n",
       "\n",
       "    .dataframe thead th {\n",
       "        text-align: right;\n",
       "    }\n",
       "</style>\n",
       "<table border=\"1\" class=\"dataframe\">\n",
       "  <thead>\n",
       "    <tr style=\"text-align: right;\">\n",
       "      <th></th>\n",
       "      <th>CENTROID_ID</th>\n",
       "      <th>NEAREST_CENTROIDS_DISTANCE</th>\n",
       "      <th>NUM_TX</th>\n",
       "      <th>AVG_TX_AMOUNT</th>\n",
       "      <th>PCT_TX_FRAUD</th>\n",
       "    </tr>\n",
       "  </thead>\n",
       "  <tbody>\n",
       "    <tr>\n",
       "      <th>0</th>\n",
       "      <td>1</td>\n",
       "      <td>[{'CENTROID_ID': 1, 'DISTANCE': 1.135931355828...</td>\n",
       "      <td>2801</td>\n",
       "      <td>10.103181007</td>\n",
       "      <td>0.000357</td>\n",
       "    </tr>\n",
       "    <tr>\n",
       "      <th>1</th>\n",
       "      <td>3</td>\n",
       "      <td>[{'CENTROID_ID': 3, 'DISTANCE': 0.471969087215...</td>\n",
       "      <td>2142</td>\n",
       "      <td>70.659080299</td>\n",
       "      <td>0.026144</td>\n",
       "    </tr>\n",
       "    <tr>\n",
       "      <th>2</th>\n",
       "      <td>1</td>\n",
       "      <td>[{'CENTROID_ID': 1, 'DISTANCE': 0.489710463705...</td>\n",
       "      <td>2291</td>\n",
       "      <td>23.109580969</td>\n",
       "      <td>0.022261</td>\n",
       "    </tr>\n",
       "    <tr>\n",
       "      <th>3</th>\n",
       "      <td>1</td>\n",
       "      <td>[{'CENTROID_ID': 1, 'DISTANCE': 0.824810107907...</td>\n",
       "      <td>2061</td>\n",
       "      <td>6.790203785</td>\n",
       "      <td>0.000485</td>\n",
       "    </tr>\n",
       "    <tr>\n",
       "      <th>4</th>\n",
       "      <td>1</td>\n",
       "      <td>[{'CENTROID_ID': 1, 'DISTANCE': 0.838748474567...</td>\n",
       "      <td>2325</td>\n",
       "      <td>11.446068817</td>\n",
       "      <td>0.030538</td>\n",
       "    </tr>\n",
       "  </tbody>\n",
       "</table>\n",
       "<p>5 rows × 5 columns</p>\n",
       "</div>[5 rows x 5 columns in total]"
      ],
      "text/plain": [
       "   CENTROID_ID                         NEAREST_CENTROIDS_DISTANCE  NUM_TX  \\\n",
       "0            1  [{'CENTROID_ID': 1, 'DISTANCE': 1.135931355828...    2801   \n",
       "1            3  [{'CENTROID_ID': 3, 'DISTANCE': 0.471969087215...    2142   \n",
       "2            1  [{'CENTROID_ID': 1, 'DISTANCE': 0.489710463705...    2291   \n",
       "3            1  [{'CENTROID_ID': 1, 'DISTANCE': 0.824810107907...    2061   \n",
       "4            1  [{'CENTROID_ID': 1, 'DISTANCE': 0.838748474567...    2325   \n",
       "\n",
       "   AVG_TX_AMOUNT  PCT_TX_FRAUD  \n",
       "0   10.103181007      0.000357  \n",
       "1   70.659080299      0.026144  \n",
       "2   23.109580969      0.022261  \n",
       "3    6.790203785      0.000485  \n",
       "4   11.446068817      0.030538  \n",
       "\n",
       "[5 rows x 5 columns]"
      ]
     },
     "execution_count": 109,
     "metadata": {},
     "output_type": "execute_result"
    }
   ],
   "source": [
    "clustered_result = cluster_model.predict(bpd.DataFrame(customer_aggregates[['NUM_TX','AVG_TX_AMOUNT','PCT_TX_FRAUD']]))\n",
    "clustered_result.head(n=5)"
   ]
  },
  {
   "cell_type": "code",
   "execution_count": 110,
   "metadata": {
    "tags": []
   },
   "outputs": [
    {
     "data": {
      "text/html": [
       "Query job 508350ad-23dd-4535-95db-33e84a942c7a is DONE. 2.4 MB processed. <a target=\"_blank\" href=\"https://console.cloud.google.com/bigquery?project=orange-ml-demo&j=bq:us-central1:508350ad-23dd-4535-95db-33e84a942c7a&page=queryresults\">Open Job</a>"
      ],
      "text/plain": [
       "<IPython.core.display.HTML object>"
      ]
     },
     "metadata": {},
     "output_type": "display_data"
    },
    {
     "data": {
      "text/html": [
       "Query job b30e614b-5a32-4531-adc7-ad6f936af81e is DONE. 2.4 MB processed. <a target=\"_blank\" href=\"https://console.cloud.google.com/bigquery?project=orange-ml-demo&j=bq:us-central1:b30e614b-5a32-4531-adc7-ad6f936af81e&page=queryresults\">Open Job</a>"
      ],
      "text/plain": [
       "<IPython.core.display.HTML object>"
      ]
     },
     "metadata": {},
     "output_type": "display_data"
    },
    {
     "data": {
      "text/html": [
       "Query job 5181ebf9-83a3-4134-84c2-c0bee7631732 is DONE. 2.4 MB processed. <a target=\"_blank\" href=\"https://console.cloud.google.com/bigquery?project=orange-ml-demo&j=bq:us-central1:5181ebf9-83a3-4134-84c2-c0bee7631732&page=queryresults\">Open Job</a>"
      ],
      "text/plain": [
       "<IPython.core.display.HTML object>"
      ]
     },
     "metadata": {},
     "output_type": "display_data"
    }
   ],
   "source": [
    "cluster_1_result = clustered_result[clustered_result[\"CENTROID_ID\"] == 1][['NUM_TX','AVG_TX_AMOUNT','PCT_TX_FRAUD']]\n",
    "cluster_1_result_pandas = cluster_1_result.head(5).to_pandas()\n",
    "\n",
    "cluster_2_result = clustered_result[clustered_result[\"CENTROID_ID\"] == 2][['NUM_TX','AVG_TX_AMOUNT','PCT_TX_FRAUD']]\n",
    "cluster_2_result_pandas = cluster_2_result.head(5).to_pandas()\n",
    "\n",
    "cluster_3_result = clustered_result[clustered_result[\"CENTROID_ID\"] == 3][['NUM_TX','AVG_TX_AMOUNT','PCT_TX_FRAUD']]\n",
    "cluster_3_result_pandas = cluster_3_result.head(5).to_pandas()"
   ]
  },
  {
   "cell_type": "code",
   "execution_count": 135,
   "metadata": {
    "tags": []
   },
   "outputs": [],
   "source": [
    "prompts_list = []\n",
    "prompt1 = 'transaction profile 1:\\n'\n",
    "for i in range(5):\n",
    "    prompt1 += str(i + 1) + '. ' + \\\n",
    "        cluster_1_result_pandas[['NUM_TX','AVG_TX_AMOUNT','PCT_TX_FRAUD']].iloc[i].to_string() + '\\n'\n",
    "prompts_list.append(prompt1)\n",
    "\n",
    "prompt2 = 'transaction profile 2:\\n'\n",
    "for i in range(5):\n",
    "    prompt2 += str(i + 1) + '. ' + \\\n",
    "       cluster_2_result_pandas[['NUM_TX','AVG_TX_AMOUNT','PCT_TX_FRAUD']].iloc[i].to_string() + '\\n'\n",
    "prompts_list.append(prompt2)\n",
    "    \n",
    "    \n",
    "prompt3 ='transaction profile 3:\\n'\n",
    "for i in range(5):\n",
    "    prompt3 += str(i + 1) + '. ' + \\\n",
    "        cluster_3_result_pandas[['NUM_TX','AVG_TX_AMOUNT','PCT_TX_FRAUD']].iloc[i].to_string() + '\\n'\n",
    "prompts_list.append(prompt3)"
   ]
  },
  {
   "cell_type": "code",
   "execution_count": 136,
   "metadata": {
    "tags": []
   },
   "outputs": [],
   "source": [
    " prompt = f\"\"\"\n",
    "    Next, there is the description of {n_clusters} transactions clusters that have been tagged as fraudulents,\n",
    "    Write a short explanation of the semantics of each type:\n",
    "    Return in JSON with the following format  \"tx_cluster_id\": \"1\" , \"tx_profile\" : \"description\", ...,     \n",
    "    \"\"\"\n",
    "for i in range(n_clusters):\n",
    "    prompt += prompts_list[i]"
   ]
  },
  {
   "cell_type": "code",
   "execution_count": 138,
   "metadata": {
    "tags": []
   },
   "outputs": [
    {
     "data": {
      "text/html": [
       "Query job da68323a-a0c0-42e8-8eb1-04ee9373f397 is DONE. 0 Bytes processed. <a target=\"_blank\" href=\"https://console.cloud.google.com/bigquery?project=orange-ml-demo&j=bq:us-central1:da68323a-a0c0-42e8-8eb1-04ee9373f397&page=queryresults\">Open Job</a>"
      ],
      "text/plain": [
       "<IPython.core.display.HTML object>"
      ]
     },
     "metadata": {},
     "output_type": "display_data"
    },
    {
     "data": {
      "text/html": [
       "Query job bd1da23c-ec06-4e69-979f-c0b705f7f2f7 is DONE. 0 Bytes processed. <a target=\"_blank\" href=\"https://console.cloud.google.com/bigquery?project=orange-ml-demo&j=bq:us-central1:bd1da23c-ec06-4e69-979f-c0b705f7f2f7&page=queryresults\">Open Job</a>"
      ],
      "text/plain": [
       "<IPython.core.display.HTML object>"
      ]
     },
     "metadata": {},
     "output_type": "display_data"
    },
    {
     "data": {
      "text/html": [
       "Query job d5b99071-6d48-49f8-b3cd-ae0d2c0e37bc is DONE. 0 Bytes processed. <a target=\"_blank\" href=\"https://console.cloud.google.com/bigquery?project=orange-ml-demo&j=bq:us-central1:d5b99071-6d48-49f8-b3cd-ae0d2c0e37bc&page=queryresults\">Open Job</a>"
      ],
      "text/plain": [
       "<IPython.core.display.HTML object>"
      ]
     },
     "metadata": {},
     "output_type": "display_data"
    },
    {
     "data": {
      "text/html": [
       "Query job 9e71bfb1-9878-473f-9971-3c25a63a4742 is DONE. 0 Bytes processed. <a target=\"_blank\" href=\"https://console.cloud.google.com/bigquery?project=orange-ml-demo&j=bq:us-central1:9e71bfb1-9878-473f-9971-3c25a63a4742&page=queryresults\">Open Job</a>"
      ],
      "text/plain": [
       "<IPython.core.display.HTML object>"
      ]
     },
     "metadata": {},
     "output_type": "display_data"
    },
    {
     "data": {
      "text/html": [
       "Query job 12e867cc-376c-44f1-8ee9-718bb16d3798 is DONE. 0 Bytes processed. <a target=\"_blank\" href=\"https://console.cloud.google.com/bigquery?project=orange-ml-demo&j=bq:us-central1:12e867cc-376c-44f1-8ee9-718bb16d3798&page=queryresults\">Open Job</a>"
      ],
      "text/plain": [
       "<IPython.core.display.HTML object>"
      ]
     },
     "metadata": {},
     "output_type": "display_data"
    },
    {
     "name": "stdout",
     "output_type": "stream",
     "text": [
      " ```json\n",
      "{\n",
      "  \"tx_cluster_id\": \"1\",\n",
      "  \"tx_profile\": \"This cluster is characterized by a high number of transactions with relatively low average amounts and a low percentage of fraudulent transactions.\"\n",
      "},\n",
      "{\n",
      "  \"tx_cluster_id\": \"2\",\n",
      "  \"tx_profile\": \"This cluster is characterized by a moderate number of transactions with relatively high average amounts and a moderate percentage of fraudulent transactions.\"\n",
      "},\n",
      "{\n",
      "  \"tx_cluster_id\": \"3\",\n",
      "  \"tx_profile\": \"This cluster is characterized by a high number of transactions\n"
     ]
    }
   ],
   "source": [
    "from bigframes.ml.llm import PaLM2TextGenerator\n",
    "\n",
    "llm_model = PaLM2TextGenerator(model_name=\"text-bison-32k\")\n",
    "bdf = bpd.DataFrame({\"prompt\": [prompt]})\n",
    "transaction_desc = llm_model.predict(bdf)\n",
    "print(transaction_desc[\"ml_generate_text_llm_result\"].iloc[0])"
   ]
  },
  {
   "cell_type": "markdown",
   "metadata": {},
   "source": [
    "### END\n",
    "\n",
    "Now you can go to the next notebook `02_feature_engineering_batch.ipynb`"
   ]
  }
 ],
 "metadata": {
  "colab": {
   "collapsed_sections": [],
   "name": "01_exploratory_data_analysis.ipynb",
   "toc_visible": true
  },
  "environment": {
   "kernel": "conda-root-py",
   "name": "workbench-notebooks.m113",
   "type": "gcloud",
   "uri": "gcr.io/deeplearning-platform-release/workbench-notebooks:m113"
  },
  "kernelspec": {
   "display_name": "Python 3 (ipykernel) (Local)",
   "language": "python",
   "name": "conda-root-py"
  },
  "language_info": {
   "codemirror_mode": {
    "name": "ipython",
    "version": 3
   },
   "file_extension": ".py",
   "mimetype": "text/x-python",
   "name": "python",
   "nbconvert_exporter": "python",
   "pygments_lexer": "ipython3",
   "version": "3.10.13"
  }
 },
 "nbformat": 4,
 "nbformat_minor": 4
}
