{
 "cells": [
  {
   "cell_type": "code",
   "execution_count": null,
   "metadata": {
    "id": "ur8xi4C7S06n"
   },
   "outputs": [],
   "source": [
    "# Copyright 2024 Google LLC\n",
    "#\n",
    "# Licensed under the Apache License, Version 2.0 (the \"License\");\n",
    "# you may not use this file except in compliance with the License.\n",
    "# You may obtain a copy of the License at\n",
    "#\n",
    "#     https://www.apache.org/licenses/LICENSE-2.0\n",
    "#\n",
    "# Unless required by applicable law or agreed to in writing, software\n",
    "# distributed under the License is distributed on an \"AS IS\" BASIS,\n",
    "# WITHOUT WARRANTIES OR CONDITIONS OF ANY KIND, either express or implied.\n",
    "# See the License for the specific language governing permissions and\n",
    "# limitations under the License."
   ]
  },
  {
   "cell_type": "markdown",
   "metadata": {
    "id": "JAPoU8Sm5E6e"
   },
   "source": [
    "# miniFraudFinder - Feature Engineering (batch)\n"
   ]
  },
  {
   "cell_type": "markdown",
   "metadata": {
    "id": "tvgnzT1CKxrO"
   },
   "source": [
    "## Overview\n",
    "\n",
    "[miniFraudFinder](https://github.com/jrdetorre-google/minifraudfinder) is a series of labs on how to build a  fraud detection system on Google Cloud. Throughout the miniFraudFinder labs, you will learn how to read historical bank transaction data stored in data warehouse,  perform exploratory data analysis (EDA), do feature engineering,  train a model u, register your model in a model registry, evaluate your model, deploy your model to an endpoint, do real-time inference on your model and monitor your model."
   ]
  },
  {
   "cell_type": "markdown",
   "metadata": {
    "id": "25113176ad6a"
   },
   "source": [
    "### Objective\n",
    "\n",
    "As you engineer features for model training, it's important to consider how the features are computed when making predictions with new data. For online predictions, you may have features that can be pre-computed via _batch feature engineering_. For these miniFraudfinder labs, for computing features based on the last n _days_, you will use _batch_ feature engineering in BigQuery.\n",
    "\n",
    "This notebook shows how to generate new features on bank transactions by customer and terminal over the last n days, by doing batch feature engineering in SQL with BigQuery. \n",
    "\n",
    "This lab uses the following Google Cloud services and resources:\n",
    "\n",
    "- [Vertex AI](https://cloud.google.com/vertex-ai/)\n",
    "- [BigQuery](https://cloud.google.com/bigquery/)\n",
    "\n",
    "\n",
    "Steps performed in this notebook:\n",
    "\n",
    "- Build customer and terminal-related features in BigQuery\n"
   ]
  },
  {
   "cell_type": "markdown",
   "metadata": {},
   "source": [
    "### Costs"
   ]
  },
  {
   "cell_type": "markdown",
   "metadata": {},
   "source": [
    "This tutorial uses billable components of Google Cloud:\n",
    "\n",
    "* Vertex AI\n",
    "* Cloud Storage\n",
    "* BigQuery\n",
    "\n",
    "Learn about [Vertex AI\n",
    "pricing](https://cloud.google.com/vertex-ai/pricing), [BigQuery pricing](https://cloud.google.com/bigquery/pricing) and use the [Pricing\n",
    "Calculator](https://cloud.google.com/products/calculator/)\n",
    "to generate a cost estimate based on your projected usage."
   ]
  },
  {
   "cell_type": "markdown",
   "metadata": {
    "id": "811f5d41ab7f",
    "tags": []
   },
   "source": [
    "### Load configuration settings from the setup notebook\n",
    "\n",
    "Set the constants used in this notebook and load the config settings from the `00_environment_setup.ipynb` notebook."
   ]
  },
  {
   "cell_type": "code",
   "execution_count": 1,
   "metadata": {
    "id": "d31d1487ac34",
    "tags": []
   },
   "outputs": [
    {
     "name": "stdout",
     "output_type": "stream",
     "text": [
      "\n",
      "BUCKET_NAME          = \"orange-ml-demo-fraudfinder\"\n",
      "PROJECT              = \"orange-ml-demo\"\n",
      "REGION               = \"us-central1\"\n",
      "ID                   = \"zv7r3\"\n",
      "FEATURESTORE_ID      = \"fraudfinder_zv7r3\"\n",
      "MODEL_NAME           = \"ff_model\"\n",
      "ENDPOINT_NAME        = \"ff_model_endpoint\"\n",
      "TRAINING_DS_SIZE     = \"1000\"\n",
      "\n"
     ]
    }
   ],
   "source": [
    "GCP_PROJECTS = !gcloud config get-value project\n",
    "PROJECT_ID = GCP_PROJECTS[0]\n",
    "BUCKET_NAME = f\"{PROJECT_ID}-fraudfinder\"\n",
    "config = !gsutil cat gs://{BUCKET_NAME}/config/notebook_env.py\n",
    "print(config.n)\n",
    "exec(config.n)"
   ]
  },
  {
   "cell_type": "markdown",
   "metadata": {
    "id": "XoEqT2Y4DJmf"
   },
   "source": [
    "### Import libraries"
   ]
  },
  {
   "cell_type": "code",
   "execution_count": 2,
   "metadata": {
    "id": "pRUOFELefqf1",
    "tags": []
   },
   "outputs": [],
   "source": [
    "# General\n",
    "import datetime as dt\n",
    "import json\n",
    "import os\n",
    "import random\n",
    "import sys\n",
    "import time\n",
    "from datetime import datetime, timedelta\n",
    "from typing import List, Union\n",
    "\n",
    "# Data Engineering\n",
    "import numpy as np\n",
    "import pandas as pd\n",
    "pd.set_option('display.max_columns', 500)\n",
    "\n",
    "# Vertex AI and Vertex AI Feature Store\n",
    "from google.cloud import aiplatform as vertex_ai\n",
    "from google.cloud import bigquery"
   ]
  },
  {
   "cell_type": "markdown",
   "metadata": {
    "id": "Moq4QZKjY4fv"
   },
   "source": [
    "### Define constants"
   ]
  },
  {
   "cell_type": "code",
   "execution_count": 46,
   "metadata": {
    "id": "G-4MU7kF3t4x",
    "tags": []
   },
   "outputs": [],
   "source": [
    "# Define the date range of transactions for feature engineering (last 10 days up until yesterday)\n",
    "YESTERDAY = datetime.today() - timedelta(days=30)\n",
    "YEAR_MONTH_PREFIX = YESTERDAY.strftime(\"%Y-%m\")\n",
    "DATAPROCESSING_START_DATE = (YESTERDAY - timedelta(days=10)).strftime(\"%Y-%m-%d\")\n",
    "DATAPROCESSING_END_DATE = YESTERDAY.strftime(\"%Y-%m-%d\")\n",
    "\n",
    "# Define BiqQuery dataset and tables to calculate features.\n",
    "RAW_BQ_TRANSACTION_TABLE_URI = f\"{PROJECT_ID}.tx.tx\"\n",
    "RAW_BQ_LABELS_TABLE_URI = f\"{PROJECT_ID}.tx.txlabels\"\n",
    "FEATURES_BQ_TABLE_URI = f\"{PROJECT_ID}.tx.wide_features_table\"\n",
    "\n",
    "# Define Vertex AI Feature store settings.\n",
    "CUSTOMERS_TABLE_NAME = f\"customers_{DATAPROCESSING_END_DATE.replace('-', '')}\"\n",
    "CUSTOMERS_BQ_TABLE_URI = f\"{PROJECT_ID}.tx.{CUSTOMERS_TABLE_NAME}\"\n",
    "TERMINALS_TABLE_NAME = f\"terminals_{DATAPROCESSING_END_DATE.replace('-', '')}\"                    \n",
    "TERMINALS_BQ_TABLE_URI = f\"{PROJECT_ID}.tx.{TERMINALS_TABLE_NAME}\"\n",
    "ONLINE_STORAGE_NODES = 1\n",
    "FEATURE_TIME = \"feature_ts\"\n",
    "CUSTOMER_ENTITY_ID = \"customer_entity\"\n",
    "TERMINAL_ENTITY_ID = \"terminal_entity\""
   ]
  },
  {
   "cell_type": "markdown",
   "metadata": {
    "id": "bedfb5ba7f57"
   },
   "source": [
    "### Helpers\n",
    "\n",
    "Define a set of helper functions to run BigQuery query and create features. "
   ]
  },
  {
   "cell_type": "code",
   "execution_count": 4,
   "metadata": {
    "id": "6b81dbbaa636",
    "tags": []
   },
   "outputs": [],
   "source": [
    "def run_bq_query(sql: str, show=False) -> Union[str, pd.DataFrame]:\n",
    "    \"\"\"\n",
    "    Run a BigQuery query and return the job ID or result as a DataFrame\n",
    "    Args:\n",
    "        sql: SQL query, as a string, to execute in BigQuery\n",
    "        show: A flag to show query result in a Pandas Dataframe\n",
    "    Returns:\n",
    "        df: DataFrame of results from query,  or error, if any\n",
    "    \"\"\"\n",
    "\n",
    "    bq_client = bigquery.Client()\n",
    "\n",
    "    # Try dry run before executing query to catch any errors\n",
    "    job_config = bigquery.QueryJobConfig(dry_run=True, use_query_cache=False)\n",
    "    bq_client.query(sql, job_config=job_config)\n",
    "\n",
    "    # If dry run succeeds without errors, proceed to run query\n",
    "    job_config = bigquery.QueryJobConfig()\n",
    "    client_result = bq_client.query(sql, job_config=job_config)\n",
    "\n",
    "    job_id = client_result.job_id\n",
    "\n",
    "    # Wait for query/job to finish running. then get & return data frame\n",
    "    result = client_result.result()\n",
    "    print(f\"Finished job_id: {job_id}\")\n",
    "    \n",
    "    if show:\n",
    "        df = result.to_arrow().to_pandas()\n",
    "        return df"
   ]
  },
  {
   "cell_type": "markdown",
   "metadata": {
    "id": "jKaROgJZ3t4y"
   },
   "source": [
    "## Feature Engineering"
   ]
  },
  {
   "cell_type": "markdown",
   "metadata": {
    "id": "0NDaDFyj3t4z"
   },
   "source": [
    "### Define customer and terminal-related features for batch feature engineering\n",
    "\n",
    "In this section, you will create features, based on historical customer behaviour and historical terminal activities. This features will be batch-generated using SQL in BigQuery, where the historical data is stored.\n",
    "\n",
    "The query below will calculate 2 sets of features: \n",
    "\n",
    "1. **Customer-related features**: which describes the spending behaviour of customer within 1, 7 and 15 days time windows using number of transactions and average amount spent in dollars ($)\n",
    "\n",
    "2. **Terminal-related features** which describes the risk of a given terminal to be exposed to fraudulent transactions within 1, 7 and 15 days using average number of fraudulent transactions in dollars ($), the number of transactions and risk index. One thing to note is that you will add some delay to take into account time that would pass between the time of transaction and the result of fraud investigation or customer claim.\n",
    "\n",
    "You will use one month of transaction data starting from the end of January and going back to compute the features.\n",
    "\n",
    "Below is the schema you should expect to see, after doing the batch feature engineering in BigQuery:\n",
    "\n",
    "|feature_time           |customer_id| customer batch features   |\n",
    "|-----------------------|-----------|---------------------------|\n",
    "|2022-01-01 17:20:15 UTC|1          |(e.g., nb_tx,  avg_tx)     |\n",
    "|2022-01-02 12:08:40 UTC|2          |(e.g., nb_tx,  avg_tx)     |\n",
    "|2022-01-03 17:30:48 UTC|3          |(e.g., nb_tx,  avg_tx)     |\n",
    "\n",
    "\n",
    "|feature_time           |terminal_id| terminal batch features|\n",
    "|-----------------------|-----------|------------------------|\n",
    "|2022-01-01 17:20:15 UTC|12345      |(e.g., risk_x_days)     |\n",
    "|2022-01-02 12:08:40 UTC|26789      |(e.g., risk_x_days)     |\n",
    "|2022-01-03 17:30:48 UTC|101112     |(e.g., risk_x_days)     |\n"
   ]
  },
  {
   "cell_type": "markdown",
   "metadata": {
    "id": "43265bd3002f"
   },
   "source": [
    "#### Create the query to create batch features"
   ]
  },
  {
   "cell_type": "markdown",
   "metadata": {},
   "source": [
    "Date settings to be used:"
   ]
  },
  {
   "cell_type": "code",
   "execution_count": 5,
   "metadata": {
    "tags": []
   },
   "outputs": [
    {
     "name": "stdout",
     "output_type": "stream",
     "text": [
      "\n",
      "DATAPROCESSING_START_DATE: 2023-12-10\n",
      "DATAPROCESSING_END_DATE: 2023-12-20\n",
      "\n"
     ]
    }
   ],
   "source": [
    "print(f\"\"\"\n",
    "DATAPROCESSING_START_DATE: {DATAPROCESSING_START_DATE}\n",
    "DATAPROCESSING_END_DATE: {DATAPROCESSING_END_DATE}\n",
    "\"\"\")"
   ]
  },
  {
   "cell_type": "markdown",
   "metadata": {},
   "source": [
    "##### Customer feature table\n",
    "\n",
    "Customer table SQL query string:"
   ]
  },
  {
   "cell_type": "code",
   "execution_count": 9,
   "metadata": {
    "id": "43Ck_vAc3t4z",
    "tags": []
   },
   "outputs": [],
   "source": [
    "create_customer_batch_features_query = f\"\"\"\n",
    "CREATE OR REPLACE TABLE `{CUSTOMERS_BQ_TABLE_URI}` AS\n",
    "WITH\n",
    "  -- query to join labels with features -------------------------------------------------------------------------------------------\n",
    "  get_raw_table AS (\n",
    "  SELECT\n",
    "    raw_tx.TX_TS,\n",
    "    raw_tx.TX_ID,\n",
    "    raw_tx.CUSTOMER_ID,\n",
    "    raw_tx.TERMINAL_ID,\n",
    "    raw_tx.TX_AMOUNT,\n",
    "    raw_lb.TX_FRAUD\n",
    "  FROM (\n",
    "    SELECT\n",
    "      *\n",
    "    FROM\n",
    "      `{RAW_BQ_TRANSACTION_TABLE_URI}`\n",
    "    WHERE\n",
    "      DATE(TX_TS) BETWEEN DATE_SUB(\"{DATAPROCESSING_END_DATE}\", INTERVAL 15 DAY) AND \"{DATAPROCESSING_END_DATE}\"\n",
    "    ) raw_tx\n",
    "  LEFT JOIN \n",
    "    `{RAW_BQ_LABELS_TABLE_URI}` as raw_lb\n",
    "  ON raw_tx.TX_ID = raw_lb.TX_ID),\n",
    "\n",
    "  -- query to calculate CUSTOMER spending behaviour --------------------------------------------------------------------------------\n",
    "  get_customer_spending_behaviour AS (\n",
    "  SELECT\n",
    "    TX_TS,\n",
    "    TX_ID,\n",
    "    CUSTOMER_ID,\n",
    "    TERMINAL_ID,\n",
    "    TX_AMOUNT,\n",
    "    TX_FRAUD,\n",
    "    \n",
    "    # calc the number of customer tx over daily windows per customer (1, 7 and 15 days, expressed in seconds)\n",
    "    COUNT(TX_FRAUD) OVER (PARTITION BY CUSTOMER_ID ORDER BY UNIX_SECONDS(TX_TS) ASC RANGE BETWEEN 86400 PRECEDING\n",
    "      AND CURRENT ROW ) AS CUSTOMER_ID_NB_TX_1DAY_WINDOW,\n",
    "    COUNT(TX_FRAUD) OVER (PARTITION BY CUSTOMER_ID ORDER BY UNIX_SECONDS(TX_TS) ASC RANGE BETWEEN 604800 PRECEDING\n",
    "      AND CURRENT ROW ) AS CUSTOMER_ID_NB_TX_7DAY_WINDOW,\n",
    "    COUNT(TX_FRAUD) OVER (PARTITION BY CUSTOMER_ID ORDER BY UNIX_SECONDS(TX_TS) ASC RANGE BETWEEN 1209600 PRECEDING\n",
    "      AND CURRENT ROW ) AS CUSTOMER_ID_NB_TX_14DAY_WINDOW,\n",
    "      \n",
    "    # calc the customer average tx amount over daily windows per customer (1, 7 and 15 days, expressed in seconds, in dollars ($))\n",
    "    AVG(TX_AMOUNT) OVER (PARTITION BY CUSTOMER_ID ORDER BY UNIX_SECONDS(TX_TS) ASC RANGE BETWEEN 86400 PRECEDING\n",
    "      AND CURRENT ROW ) AS CUSTOMER_ID_AVG_AMOUNT_1DAY_WINDOW,\n",
    "    AVG(TX_AMOUNT) OVER (PARTITION BY CUSTOMER_ID ORDER BY UNIX_SECONDS(TX_TS) ASC RANGE BETWEEN 604800 PRECEDING\n",
    "      AND CURRENT ROW ) AS CUSTOMER_ID_AVG_AMOUNT_7DAY_WINDOW,\n",
    "    AVG(TX_AMOUNT) OVER (PARTITION BY CUSTOMER_ID ORDER BY UNIX_SECONDS(TX_TS) ASC RANGE BETWEEN 1209600 PRECEDING\n",
    "      AND CURRENT ROW ) AS CUSTOMER_ID_AVG_AMOUNT_14DAY_WINDOW,\n",
    "  FROM get_raw_table)\n",
    "\n",
    "# Create the table with CUSTOMER and TERMINAL features ----------------------------------------------------------------------------\n",
    "SELECT\n",
    "  PARSE_TIMESTAMP(\"%Y-%m-%d %H:%M:%S\", FORMAT_TIMESTAMP(\"%Y-%m-%d %H:%M:%S\", TX_TS, \"UTC\")) AS feature_ts,\n",
    "  CUSTOMER_ID AS customer_id,\n",
    "  CAST(CUSTOMER_ID_NB_TX_1DAY_WINDOW AS INT64) AS customer_id_nb_tx_1day_window,\n",
    "  CAST(CUSTOMER_ID_NB_TX_7DAY_WINDOW AS INT64) AS customer_id_nb_tx_7day_window,\n",
    "  CAST(CUSTOMER_ID_NB_TX_14DAY_WINDOW AS INT64) AS customer_id_nb_tx_14day_window,\n",
    "  CAST(CUSTOMER_ID_AVG_AMOUNT_1DAY_WINDOW AS FLOAT64) AS customer_id_avg_amount_1day_window,\n",
    "  CAST(CUSTOMER_ID_AVG_AMOUNT_7DAY_WINDOW AS FLOAT64) AS customer_id_avg_amount_7day_window,\n",
    "  CAST(CUSTOMER_ID_AVG_AMOUNT_14DAY_WINDOW AS FLOAT64) AS customer_id_avg_amount_14day_window,\n",
    "FROM\n",
    "  get_customer_spending_behaviour\n",
    "\"\"\""
   ]
  },
  {
   "cell_type": "markdown",
   "metadata": {},
   "source": [
    "##### Run the query \n",
    "\n",
    "You create the customer features table"
   ]
  },
  {
   "cell_type": "code",
   "execution_count": 10,
   "metadata": {
    "tags": []
   },
   "outputs": [
    {
     "name": "stdout",
     "output_type": "stream",
     "text": [
      "Finished job_id: 910584f0-1547-42a8-b44c-e806e20d0367\n"
     ]
    }
   ],
   "source": [
    "run_bq_query(create_customer_batch_features_query)"
   ]
  },
  {
   "cell_type": "markdown",
   "metadata": {},
   "source": [
    "##### Inspect the result \n",
    "\n",
    "You can query some data rows to validate the result of the query"
   ]
  },
  {
   "cell_type": "code",
   "execution_count": 11,
   "metadata": {
    "tags": []
   },
   "outputs": [
    {
     "name": "stdout",
     "output_type": "stream",
     "text": [
      "Finished job_id: 6b152164-4aa7-4913-a608-37c20db0cdbb\n"
     ]
    },
    {
     "data": {
      "text/html": [
       "<div>\n",
       "<style scoped>\n",
       "    .dataframe tbody tr th:only-of-type {\n",
       "        vertical-align: middle;\n",
       "    }\n",
       "\n",
       "    .dataframe tbody tr th {\n",
       "        vertical-align: top;\n",
       "    }\n",
       "\n",
       "    .dataframe thead th {\n",
       "        text-align: right;\n",
       "    }\n",
       "</style>\n",
       "<table border=\"1\" class=\"dataframe\">\n",
       "  <thead>\n",
       "    <tr style=\"text-align: right;\">\n",
       "      <th></th>\n",
       "      <th>feature_ts</th>\n",
       "      <th>customer_id</th>\n",
       "      <th>customer_id_nb_tx_1day_window</th>\n",
       "      <th>customer_id_nb_tx_7day_window</th>\n",
       "      <th>customer_id_nb_tx_14day_window</th>\n",
       "      <th>customer_id_avg_amount_1day_window</th>\n",
       "      <th>customer_id_avg_amount_7day_window</th>\n",
       "      <th>customer_id_avg_amount_14day_window</th>\n",
       "    </tr>\n",
       "  </thead>\n",
       "  <tbody>\n",
       "    <tr>\n",
       "      <th>0</th>\n",
       "      <td>2023-12-20 19:26:28+00:00</td>\n",
       "      <td>0065747991442579</td>\n",
       "      <td>2</td>\n",
       "      <td>14</td>\n",
       "      <td>37</td>\n",
       "      <td>12.530000</td>\n",
       "      <td>15.751429</td>\n",
       "      <td>16.534054</td>\n",
       "    </tr>\n",
       "    <tr>\n",
       "      <th>1</th>\n",
       "      <td>2023-12-20 14:12:29+00:00</td>\n",
       "      <td>0346132252978092</td>\n",
       "      <td>3</td>\n",
       "      <td>12</td>\n",
       "      <td>27</td>\n",
       "      <td>55.906667</td>\n",
       "      <td>56.274167</td>\n",
       "      <td>55.285556</td>\n",
       "    </tr>\n",
       "    <tr>\n",
       "      <th>2</th>\n",
       "      <td>2023-12-14 19:45:45+00:00</td>\n",
       "      <td>1714753328638672</td>\n",
       "      <td>4</td>\n",
       "      <td>25</td>\n",
       "      <td>35</td>\n",
       "      <td>71.425000</td>\n",
       "      <td>70.763200</td>\n",
       "      <td>70.128857</td>\n",
       "    </tr>\n",
       "    <tr>\n",
       "      <th>3</th>\n",
       "      <td>2023-12-20 06:50:23+00:00</td>\n",
       "      <td>2325282382443339</td>\n",
       "      <td>5</td>\n",
       "      <td>26</td>\n",
       "      <td>48</td>\n",
       "      <td>12.208000</td>\n",
       "      <td>9.889231</td>\n",
       "      <td>9.993958</td>\n",
       "    </tr>\n",
       "    <tr>\n",
       "      <th>4</th>\n",
       "      <td>2023-12-08 10:01:13+00:00</td>\n",
       "      <td>2880529151312391</td>\n",
       "      <td>2</td>\n",
       "      <td>6</td>\n",
       "      <td>6</td>\n",
       "      <td>60.320000</td>\n",
       "      <td>56.346667</td>\n",
       "      <td>56.346667</td>\n",
       "    </tr>\n",
       "    <tr>\n",
       "      <th>5</th>\n",
       "      <td>2023-12-18 16:22:20+00:00</td>\n",
       "      <td>3098369735660044</td>\n",
       "      <td>5</td>\n",
       "      <td>22</td>\n",
       "      <td>42</td>\n",
       "      <td>82.668000</td>\n",
       "      <td>80.505000</td>\n",
       "      <td>80.230000</td>\n",
       "    </tr>\n",
       "    <tr>\n",
       "      <th>6</th>\n",
       "      <td>2023-12-14 13:48:24+00:00</td>\n",
       "      <td>5030876361186394</td>\n",
       "      <td>2</td>\n",
       "      <td>6</td>\n",
       "      <td>12</td>\n",
       "      <td>105.965000</td>\n",
       "      <td>101.928333</td>\n",
       "      <td>95.103333</td>\n",
       "    </tr>\n",
       "    <tr>\n",
       "      <th>7</th>\n",
       "      <td>2023-12-10 03:20:19+00:00</td>\n",
       "      <td>5748320542153481</td>\n",
       "      <td>3</td>\n",
       "      <td>20</td>\n",
       "      <td>20</td>\n",
       "      <td>63.716667</td>\n",
       "      <td>67.382000</td>\n",
       "      <td>67.382000</td>\n",
       "    </tr>\n",
       "    <tr>\n",
       "      <th>8</th>\n",
       "      <td>2023-12-08 22:18:29+00:00</td>\n",
       "      <td>6544671314653569</td>\n",
       "      <td>1</td>\n",
       "      <td>7</td>\n",
       "      <td>7</td>\n",
       "      <td>36.640000</td>\n",
       "      <td>37.391429</td>\n",
       "      <td>37.391429</td>\n",
       "    </tr>\n",
       "    <tr>\n",
       "      <th>9</th>\n",
       "      <td>2023-12-05 12:09:44+00:00</td>\n",
       "      <td>6766605839627993</td>\n",
       "      <td>22</td>\n",
       "      <td>22</td>\n",
       "      <td>22</td>\n",
       "      <td>84.162727</td>\n",
       "      <td>84.162727</td>\n",
       "      <td>84.162727</td>\n",
       "    </tr>\n",
       "  </tbody>\n",
       "</table>\n",
       "</div>"
      ],
      "text/plain": [
       "                 feature_ts       customer_id  customer_id_nb_tx_1day_window  \\\n",
       "0 2023-12-20 19:26:28+00:00  0065747991442579                              2   \n",
       "1 2023-12-20 14:12:29+00:00  0346132252978092                              3   \n",
       "2 2023-12-14 19:45:45+00:00  1714753328638672                              4   \n",
       "3 2023-12-20 06:50:23+00:00  2325282382443339                              5   \n",
       "4 2023-12-08 10:01:13+00:00  2880529151312391                              2   \n",
       "5 2023-12-18 16:22:20+00:00  3098369735660044                              5   \n",
       "6 2023-12-14 13:48:24+00:00  5030876361186394                              2   \n",
       "7 2023-12-10 03:20:19+00:00  5748320542153481                              3   \n",
       "8 2023-12-08 22:18:29+00:00  6544671314653569                              1   \n",
       "9 2023-12-05 12:09:44+00:00  6766605839627993                             22   \n",
       "\n",
       "   customer_id_nb_tx_7day_window  customer_id_nb_tx_14day_window  \\\n",
       "0                             14                              37   \n",
       "1                             12                              27   \n",
       "2                             25                              35   \n",
       "3                             26                              48   \n",
       "4                              6                               6   \n",
       "5                             22                              42   \n",
       "6                              6                              12   \n",
       "7                             20                              20   \n",
       "8                              7                               7   \n",
       "9                             22                              22   \n",
       "\n",
       "   customer_id_avg_amount_1day_window  customer_id_avg_amount_7day_window  \\\n",
       "0                           12.530000                           15.751429   \n",
       "1                           55.906667                           56.274167   \n",
       "2                           71.425000                           70.763200   \n",
       "3                           12.208000                            9.889231   \n",
       "4                           60.320000                           56.346667   \n",
       "5                           82.668000                           80.505000   \n",
       "6                          105.965000                          101.928333   \n",
       "7                           63.716667                           67.382000   \n",
       "8                           36.640000                           37.391429   \n",
       "9                           84.162727                           84.162727   \n",
       "\n",
       "   customer_id_avg_amount_14day_window  \n",
       "0                            16.534054  \n",
       "1                            55.285556  \n",
       "2                            70.128857  \n",
       "3                             9.993958  \n",
       "4                            56.346667  \n",
       "5                            80.230000  \n",
       "6                            95.103333  \n",
       "7                            67.382000  \n",
       "8                            37.391429  \n",
       "9                            84.162727  "
      ]
     },
     "execution_count": 11,
     "metadata": {},
     "output_type": "execute_result"
    }
   ],
   "source": [
    "run_bq_query(\n",
    "    f\"SELECT * FROM `{CUSTOMERS_BQ_TABLE_URI}` LIMIT 10\",\n",
    "    show=True\n",
    ")"
   ]
  },
  {
   "cell_type": "markdown",
   "metadata": {},
   "source": [
    "##### Terminal feature table\n",
    "\n",
    "Terminal table SQL query string:"
   ]
  },
  {
   "cell_type": "code",
   "execution_count": 12,
   "metadata": {
    "id": "43Ck_vAc3t4z",
    "tags": []
   },
   "outputs": [],
   "source": [
    "create_terminal_batch_features_query = f\"\"\"\n",
    "CREATE OR REPLACE TABLE `{TERMINALS_BQ_TABLE_URI}` AS\n",
    "WITH\n",
    "  -- query to join labels with features -------------------------------------------------------------------------------------------\n",
    "  get_raw_table AS (\n",
    "  SELECT\n",
    "    raw_tx.TX_TS,\n",
    "    raw_tx.TX_ID,\n",
    "    raw_tx.CUSTOMER_ID,\n",
    "    raw_tx.TERMINAL_ID,\n",
    "    raw_tx.TX_AMOUNT,\n",
    "    raw_lb.TX_FRAUD\n",
    "  FROM (\n",
    "    SELECT\n",
    "      *\n",
    "    FROM\n",
    "      `{RAW_BQ_TRANSACTION_TABLE_URI}`\n",
    "    WHERE\n",
    "      DATE(TX_TS) BETWEEN DATE_SUB(\"{DATAPROCESSING_END_DATE}\", INTERVAL 15 DAY) AND \"{DATAPROCESSING_END_DATE}\"\n",
    "    ) raw_tx\n",
    "  LEFT JOIN \n",
    "    `{RAW_BQ_LABELS_TABLE_URI}` as raw_lb\n",
    "  ON raw_tx.TX_ID = raw_lb.TX_ID),\n",
    "\n",
    "  # query to calculate TERMINAL spending behaviour --------------------------------------------------------------------------------\n",
    "  get_variables_delay_window AS (\n",
    "  SELECT\n",
    "    TX_TS,\n",
    "    TX_ID,\n",
    "    CUSTOMER_ID,\n",
    "    TERMINAL_ID,\n",
    "    \n",
    "    # calc total amount of fraudulent tx and the total number of tx over the delay period per terminal (7 days - delay, expressed in seconds)\n",
    "    SUM(TX_FRAUD) OVER (PARTITION BY TERMINAL_ID ORDER BY UNIX_SECONDS(TX_TS) ASC RANGE BETWEEN 604800 PRECEDING\n",
    "      AND CURRENT ROW ) AS NB_FRAUD_DELAY,\n",
    "    COUNT(TX_FRAUD) OVER (PARTITION BY TERMINAL_ID ORDER BY UNIX_SECONDS(TX_TS) ASC RANGE BETWEEN 604800 PRECEDING\n",
    "      AND CURRENT ROW ) AS NB_TX_DELAY,\n",
    "      \n",
    "    # calc total amount of fraudulent tx and the total number of tx over the delayed window per terminal (window + 7 days - delay, expressed in seconds)\n",
    "    SUM(TX_FRAUD) OVER (PARTITION BY TERMINAL_ID ORDER BY UNIX_SECONDS(TX_TS) ASC RANGE BETWEEN 691200 PRECEDING\n",
    "      AND CURRENT ROW ) AS NB_FRAUD_1_DELAY_WINDOW,\n",
    "    SUM(TX_FRAUD) OVER (PARTITION BY TERMINAL_ID ORDER BY UNIX_SECONDS(TX_TS) ASC RANGE BETWEEN 1209600 PRECEDING\n",
    "      AND CURRENT ROW ) AS NB_FRAUD_7_DELAY_WINDOW,\n",
    "    SUM(TX_FRAUD) OVER (PARTITION BY TERMINAL_ID ORDER BY UNIX_SECONDS(TX_TS) ASC RANGE BETWEEN 1814400 PRECEDING\n",
    "      AND CURRENT ROW ) AS NB_FRAUD_14_DELAY_WINDOW,\n",
    "    COUNT(TX_FRAUD) OVER (PARTITION BY TERMINAL_ID ORDER BY UNIX_SECONDS(TX_TS) ASC RANGE BETWEEN 691200 PRECEDING\n",
    "      AND CURRENT ROW ) AS NB_TX_1_DELAY_WINDOW,\n",
    "    COUNT(TX_FRAUD) OVER (PARTITION BY TERMINAL_ID ORDER BY UNIX_SECONDS(TX_TS) ASC RANGE BETWEEN 1209600 PRECEDING\n",
    "      AND CURRENT ROW ) AS NB_TX_7_DELAY_WINDOW,\n",
    "    COUNT(TX_FRAUD) OVER (PARTITION BY TERMINAL_ID ORDER BY UNIX_SECONDS(TX_TS) ASC RANGE BETWEEN 1814400 PRECEDING\n",
    "      AND CURRENT ROW ) AS NB_TX_14_DELAY_WINDOW,\n",
    "  FROM get_raw_table),\n",
    "\n",
    "  # query to calculate TERMINAL risk factors ---------------------------------------------------------------------------------------\n",
    "  get_risk_factors AS (\n",
    "  SELECT\n",
    "    TX_TS,\n",
    "    TX_ID,\n",
    "    CUSTOMER_ID,\n",
    "    TERMINAL_ID,\n",
    "    # calculate numerator of risk index\n",
    "    NB_FRAUD_1_DELAY_WINDOW - NB_FRAUD_DELAY AS TERMINAL_ID_NB_FRAUD_1DAY_WINDOW,\n",
    "    NB_FRAUD_7_DELAY_WINDOW - NB_FRAUD_DELAY AS TERMINAL_ID_NB_FRAUD_7DAY_WINDOW,\n",
    "    NB_FRAUD_14_DELAY_WINDOW - NB_FRAUD_DELAY AS TERMINAL_ID_NB_FRAUD_14DAY_WINDOW,\n",
    "    # calculate denominator of risk index\n",
    "    NB_TX_1_DELAY_WINDOW - NB_TX_DELAY AS TERMINAL_ID_NB_TX_1DAY_WINDOW,\n",
    "    NB_TX_7_DELAY_WINDOW - NB_TX_DELAY AS TERMINAL_ID_NB_TX_7DAY_WINDOW,\n",
    "    NB_TX_14_DELAY_WINDOW - NB_TX_DELAY AS TERMINAL_ID_NB_TX_14DAY_WINDOW,\n",
    "      FROM\n",
    "    get_variables_delay_window),\n",
    "\n",
    "  # query to calculate the TERMINAL risk index -------------------------------------------------------------------------------------\n",
    "  get_risk_index AS (\n",
    "    SELECT\n",
    "    TX_TS,\n",
    "    TX_ID,\n",
    "    CUSTOMER_ID,\n",
    "    TERMINAL_ID,\n",
    "    TERMINAL_ID_NB_TX_1DAY_WINDOW,\n",
    "    TERMINAL_ID_NB_TX_7DAY_WINDOW,\n",
    "    TERMINAL_ID_NB_TX_14DAY_WINDOW,\n",
    "    # calculate the risk index\n",
    "    (TERMINAL_ID_NB_FRAUD_1DAY_WINDOW/(TERMINAL_ID_NB_TX_1DAY_WINDOW+0.0001)) AS TERMINAL_ID_RISK_1DAY_WINDOW,\n",
    "    (TERMINAL_ID_NB_FRAUD_7DAY_WINDOW/(TERMINAL_ID_NB_TX_7DAY_WINDOW+0.0001)) AS TERMINAL_ID_RISK_7DAY_WINDOW,\n",
    "    (TERMINAL_ID_NB_FRAUD_14DAY_WINDOW/(TERMINAL_ID_NB_TX_14DAY_WINDOW+0.0001)) AS TERMINAL_ID_RISK_14DAY_WINDOW\n",
    "    FROM get_risk_factors \n",
    "  )\n",
    "\n",
    "# Create the table with CUSTOMER and TERMINAL features ----------------------------------------------------------------------------\n",
    "SELECT\n",
    "  PARSE_TIMESTAMP(\"%Y-%m-%d %H:%M:%S\", FORMAT_TIMESTAMP(\"%Y-%m-%d %H:%M:%S\", TX_TS, \"UTC\")) AS feature_ts,\n",
    "  TERMINAL_ID AS terminal_id,\n",
    "  CAST(TERMINAL_ID_NB_TX_1DAY_WINDOW AS INT64) AS terminal_id_nb_tx_1day_window,\n",
    "  CAST(TERMINAL_ID_NB_TX_7DAY_WINDOW AS INT64) AS terminal_id_nb_tx_7day_window,\n",
    "  CAST(TERMINAL_ID_NB_TX_14DAY_WINDOW AS INT64) AS terminal_id_nb_tx_14day_window,\n",
    "  CAST(TERMINAL_ID_RISK_1DAY_WINDOW AS FLOAT64) AS terminal_id_risk_1day_window,\n",
    "  CAST(TERMINAL_ID_RISK_7DAY_WINDOW AS FLOAT64) AS terminal_id_risk_7day_window,\n",
    "  CAST(TERMINAL_ID_RISK_14DAY_WINDOW AS FLOAT64) AS terminal_id_risk_14day_window,\n",
    "FROM\n",
    "  get_risk_index\n",
    "\"\"\""
   ]
  },
  {
   "cell_type": "markdown",
   "metadata": {},
   "source": [
    "##### Run the query \n",
    "\n",
    "You create the customer features table"
   ]
  },
  {
   "cell_type": "code",
   "execution_count": 13,
   "metadata": {
    "tags": []
   },
   "outputs": [
    {
     "name": "stdout",
     "output_type": "stream",
     "text": [
      "Finished job_id: c5c6a47e-2cfd-43ea-a12e-994cf24edaea\n"
     ]
    }
   ],
   "source": [
    "run_bq_query(create_terminal_batch_features_query)"
   ]
  },
  {
   "cell_type": "markdown",
   "metadata": {},
   "source": [
    "##### Inspect the result \n",
    "\n",
    "You can query some data rows to validate the result of the query"
   ]
  },
  {
   "cell_type": "code",
   "execution_count": 14,
   "metadata": {
    "tags": []
   },
   "outputs": [
    {
     "name": "stdout",
     "output_type": "stream",
     "text": [
      "Finished job_id: 9d629789-6156-473e-b914-6b478b722288\n"
     ]
    },
    {
     "data": {
      "text/html": [
       "<div>\n",
       "<style scoped>\n",
       "    .dataframe tbody tr th:only-of-type {\n",
       "        vertical-align: middle;\n",
       "    }\n",
       "\n",
       "    .dataframe tbody tr th {\n",
       "        vertical-align: top;\n",
       "    }\n",
       "\n",
       "    .dataframe thead th {\n",
       "        text-align: right;\n",
       "    }\n",
       "</style>\n",
       "<table border=\"1\" class=\"dataframe\">\n",
       "  <thead>\n",
       "    <tr style=\"text-align: right;\">\n",
       "      <th></th>\n",
       "      <th>feature_ts</th>\n",
       "      <th>terminal_id</th>\n",
       "      <th>terminal_id_nb_tx_1day_window</th>\n",
       "      <th>terminal_id_nb_tx_7day_window</th>\n",
       "      <th>terminal_id_nb_tx_14day_window</th>\n",
       "      <th>terminal_id_risk_1day_window</th>\n",
       "      <th>terminal_id_risk_7day_window</th>\n",
       "      <th>terminal_id_risk_14day_window</th>\n",
       "    </tr>\n",
       "  </thead>\n",
       "  <tbody>\n",
       "    <tr>\n",
       "      <th>0</th>\n",
       "      <td>2023-12-15 15:49:41+00:00</td>\n",
       "      <td>01596843</td>\n",
       "      <td>9</td>\n",
       "      <td>59</td>\n",
       "      <td>59</td>\n",
       "      <td>0.0</td>\n",
       "      <td>0.000000</td>\n",
       "      <td>0.000000</td>\n",
       "    </tr>\n",
       "    <tr>\n",
       "      <th>1</th>\n",
       "      <td>2023-12-18 13:23:23+00:00</td>\n",
       "      <td>16631216</td>\n",
       "      <td>27</td>\n",
       "      <td>155</td>\n",
       "      <td>155</td>\n",
       "      <td>0.0</td>\n",
       "      <td>0.006452</td>\n",
       "      <td>0.006452</td>\n",
       "    </tr>\n",
       "    <tr>\n",
       "      <th>2</th>\n",
       "      <td>2023-12-20 03:27:00+00:00</td>\n",
       "      <td>16631216</td>\n",
       "      <td>24</td>\n",
       "      <td>158</td>\n",
       "      <td>187</td>\n",
       "      <td>0.0</td>\n",
       "      <td>0.006329</td>\n",
       "      <td>0.005348</td>\n",
       "    </tr>\n",
       "    <tr>\n",
       "      <th>3</th>\n",
       "      <td>2023-12-18 08:39:08+00:00</td>\n",
       "      <td>18597292</td>\n",
       "      <td>24</td>\n",
       "      <td>128</td>\n",
       "      <td>128</td>\n",
       "      <td>0.0</td>\n",
       "      <td>0.046875</td>\n",
       "      <td>0.046875</td>\n",
       "    </tr>\n",
       "    <tr>\n",
       "      <th>4</th>\n",
       "      <td>2023-12-10 01:32:08+00:00</td>\n",
       "      <td>39619330</td>\n",
       "      <td>0</td>\n",
       "      <td>0</td>\n",
       "      <td>0</td>\n",
       "      <td>0.0</td>\n",
       "      <td>0.000000</td>\n",
       "      <td>0.000000</td>\n",
       "    </tr>\n",
       "    <tr>\n",
       "      <th>5</th>\n",
       "      <td>2023-12-09 12:55:20+00:00</td>\n",
       "      <td>42211721</td>\n",
       "      <td>0</td>\n",
       "      <td>0</td>\n",
       "      <td>0</td>\n",
       "      <td>0.0</td>\n",
       "      <td>0.000000</td>\n",
       "      <td>0.000000</td>\n",
       "    </tr>\n",
       "    <tr>\n",
       "      <th>6</th>\n",
       "      <td>2023-12-09 20:37:47+00:00</td>\n",
       "      <td>54126598</td>\n",
       "      <td>0</td>\n",
       "      <td>0</td>\n",
       "      <td>0</td>\n",
       "      <td>0.0</td>\n",
       "      <td>0.000000</td>\n",
       "      <td>0.000000</td>\n",
       "    </tr>\n",
       "    <tr>\n",
       "      <th>7</th>\n",
       "      <td>2023-12-13 16:51:30+00:00</td>\n",
       "      <td>66356805</td>\n",
       "      <td>19</td>\n",
       "      <td>29</td>\n",
       "      <td>29</td>\n",
       "      <td>0.0</td>\n",
       "      <td>0.000000</td>\n",
       "      <td>0.000000</td>\n",
       "    </tr>\n",
       "    <tr>\n",
       "      <th>8</th>\n",
       "      <td>2023-12-16 14:35:47+00:00</td>\n",
       "      <td>67320862</td>\n",
       "      <td>13</td>\n",
       "      <td>87</td>\n",
       "      <td>87</td>\n",
       "      <td>0.0</td>\n",
       "      <td>0.022988</td>\n",
       "      <td>0.022988</td>\n",
       "    </tr>\n",
       "    <tr>\n",
       "      <th>9</th>\n",
       "      <td>2023-12-17 03:04:24+00:00</td>\n",
       "      <td>68428753</td>\n",
       "      <td>20</td>\n",
       "      <td>106</td>\n",
       "      <td>106</td>\n",
       "      <td>0.1</td>\n",
       "      <td>0.028302</td>\n",
       "      <td>0.028302</td>\n",
       "    </tr>\n",
       "  </tbody>\n",
       "</table>\n",
       "</div>"
      ],
      "text/plain": [
       "                 feature_ts terminal_id  terminal_id_nb_tx_1day_window  \\\n",
       "0 2023-12-15 15:49:41+00:00    01596843                              9   \n",
       "1 2023-12-18 13:23:23+00:00    16631216                             27   \n",
       "2 2023-12-20 03:27:00+00:00    16631216                             24   \n",
       "3 2023-12-18 08:39:08+00:00    18597292                             24   \n",
       "4 2023-12-10 01:32:08+00:00    39619330                              0   \n",
       "5 2023-12-09 12:55:20+00:00    42211721                              0   \n",
       "6 2023-12-09 20:37:47+00:00    54126598                              0   \n",
       "7 2023-12-13 16:51:30+00:00    66356805                             19   \n",
       "8 2023-12-16 14:35:47+00:00    67320862                             13   \n",
       "9 2023-12-17 03:04:24+00:00    68428753                             20   \n",
       "\n",
       "   terminal_id_nb_tx_7day_window  terminal_id_nb_tx_14day_window  \\\n",
       "0                             59                              59   \n",
       "1                            155                             155   \n",
       "2                            158                             187   \n",
       "3                            128                             128   \n",
       "4                              0                               0   \n",
       "5                              0                               0   \n",
       "6                              0                               0   \n",
       "7                             29                              29   \n",
       "8                             87                              87   \n",
       "9                            106                             106   \n",
       "\n",
       "   terminal_id_risk_1day_window  terminal_id_risk_7day_window  \\\n",
       "0                           0.0                      0.000000   \n",
       "1                           0.0                      0.006452   \n",
       "2                           0.0                      0.006329   \n",
       "3                           0.0                      0.046875   \n",
       "4                           0.0                      0.000000   \n",
       "5                           0.0                      0.000000   \n",
       "6                           0.0                      0.000000   \n",
       "7                           0.0                      0.000000   \n",
       "8                           0.0                      0.022988   \n",
       "9                           0.1                      0.028302   \n",
       "\n",
       "   terminal_id_risk_14day_window  \n",
       "0                       0.000000  \n",
       "1                       0.006452  \n",
       "2                       0.005348  \n",
       "3                       0.046875  \n",
       "4                       0.000000  \n",
       "5                       0.000000  \n",
       "6                       0.000000  \n",
       "7                       0.000000  \n",
       "8                       0.022988  \n",
       "9                       0.028302  "
      ]
     },
     "execution_count": 14,
     "metadata": {},
     "output_type": "execute_result"
    }
   ],
   "source": [
    "run_bq_query(\n",
    "    f\"SELECT * FROM `{TERMINALS_BQ_TABLE_URI}` LIMIT 10\",\n",
    "    show=True\n",
    ")"
   ]
  },
  {
   "cell_type": "markdown",
   "metadata": {
    "id": "76733185d022"
   },
   "source": [
    "#### Inspect BigQuery features tables"
   ]
  },
  {
   "cell_type": "code",
   "execution_count": 15,
   "metadata": {
    "id": "774a90225747",
    "tags": []
   },
   "outputs": [
    {
     "name": "stdout",
     "output_type": "stream",
     "text": [
      "Finished job_id: 7eac15ad-dde2-42a6-9bf9-6cbef0d2b1cf\n"
     ]
    },
    {
     "data": {
      "text/html": [
       "<div>\n",
       "<style scoped>\n",
       "    .dataframe tbody tr th:only-of-type {\n",
       "        vertical-align: middle;\n",
       "    }\n",
       "\n",
       "    .dataframe tbody tr th {\n",
       "        vertical-align: top;\n",
       "    }\n",
       "\n",
       "    .dataframe thead th {\n",
       "        text-align: right;\n",
       "    }\n",
       "</style>\n",
       "<table border=\"1\" class=\"dataframe\">\n",
       "  <thead>\n",
       "    <tr style=\"text-align: right;\">\n",
       "      <th></th>\n",
       "      <th>feature_ts</th>\n",
       "      <th>customer_id</th>\n",
       "      <th>customer_id_nb_tx_1day_window</th>\n",
       "      <th>customer_id_nb_tx_7day_window</th>\n",
       "      <th>customer_id_nb_tx_14day_window</th>\n",
       "      <th>customer_id_avg_amount_1day_window</th>\n",
       "      <th>customer_id_avg_amount_7day_window</th>\n",
       "      <th>customer_id_avg_amount_14day_window</th>\n",
       "    </tr>\n",
       "  </thead>\n",
       "  <tbody>\n",
       "    <tr>\n",
       "      <th>0</th>\n",
       "      <td>2023-12-12 07:43:49+00:00</td>\n",
       "      <td>0250623170428445</td>\n",
       "      <td>5</td>\n",
       "      <td>23</td>\n",
       "      <td>23</td>\n",
       "      <td>82.226</td>\n",
       "      <td>85.656957</td>\n",
       "      <td>85.656957</td>\n",
       "    </tr>\n",
       "    <tr>\n",
       "      <th>1</th>\n",
       "      <td>2023-12-06 03:23:38+00:00</td>\n",
       "      <td>0896910678674863</td>\n",
       "      <td>2</td>\n",
       "      <td>2</td>\n",
       "      <td>2</td>\n",
       "      <td>94.665</td>\n",
       "      <td>94.665000</td>\n",
       "      <td>94.665000</td>\n",
       "    </tr>\n",
       "    <tr>\n",
       "      <th>2</th>\n",
       "      <td>2023-12-06 21:23:01+00:00</td>\n",
       "      <td>1211202768965460</td>\n",
       "      <td>2</td>\n",
       "      <td>5</td>\n",
       "      <td>5</td>\n",
       "      <td>11.285</td>\n",
       "      <td>15.336000</td>\n",
       "      <td>15.336000</td>\n",
       "    </tr>\n",
       "    <tr>\n",
       "      <th>3</th>\n",
       "      <td>2023-12-16 22:33:34+00:00</td>\n",
       "      <td>2325282382443339</td>\n",
       "      <td>5</td>\n",
       "      <td>22</td>\n",
       "      <td>43</td>\n",
       "      <td>9.102</td>\n",
       "      <td>9.715000</td>\n",
       "      <td>10.395814</td>\n",
       "    </tr>\n",
       "    <tr>\n",
       "      <th>4</th>\n",
       "      <td>2023-12-06 12:17:11+00:00</td>\n",
       "      <td>2421869738279148</td>\n",
       "      <td>2</td>\n",
       "      <td>3</td>\n",
       "      <td>3</td>\n",
       "      <td>61.720</td>\n",
       "      <td>65.166667</td>\n",
       "      <td>65.166667</td>\n",
       "    </tr>\n",
       "  </tbody>\n",
       "</table>\n",
       "</div>"
      ],
      "text/plain": [
       "                 feature_ts       customer_id  customer_id_nb_tx_1day_window  \\\n",
       "0 2023-12-12 07:43:49+00:00  0250623170428445                              5   \n",
       "1 2023-12-06 03:23:38+00:00  0896910678674863                              2   \n",
       "2 2023-12-06 21:23:01+00:00  1211202768965460                              2   \n",
       "3 2023-12-16 22:33:34+00:00  2325282382443339                              5   \n",
       "4 2023-12-06 12:17:11+00:00  2421869738279148                              2   \n",
       "\n",
       "   customer_id_nb_tx_7day_window  customer_id_nb_tx_14day_window  \\\n",
       "0                             23                              23   \n",
       "1                              2                               2   \n",
       "2                              5                               5   \n",
       "3                             22                              43   \n",
       "4                              3                               3   \n",
       "\n",
       "   customer_id_avg_amount_1day_window  customer_id_avg_amount_7day_window  \\\n",
       "0                              82.226                           85.656957   \n",
       "1                              94.665                           94.665000   \n",
       "2                              11.285                           15.336000   \n",
       "3                               9.102                            9.715000   \n",
       "4                              61.720                           65.166667   \n",
       "\n",
       "   customer_id_avg_amount_14day_window  \n",
       "0                            85.656957  \n",
       "1                            94.665000  \n",
       "2                            15.336000  \n",
       "3                            10.395814  \n",
       "4                            65.166667  "
      ]
     },
     "execution_count": 15,
     "metadata": {},
     "output_type": "execute_result"
    }
   ],
   "source": [
    "run_bq_query(\n",
    "    f\"SELECT * FROM `{CUSTOMERS_BQ_TABLE_URI}` LIMIT 5\", show=True\n",
    ")"
   ]
  },
  {
   "cell_type": "code",
   "execution_count": 16,
   "metadata": {
    "tags": []
   },
   "outputs": [
    {
     "name": "stdout",
     "output_type": "stream",
     "text": [
      "Finished job_id: 02cd5a4f-b0d4-45b5-902c-816bc8331f9c\n"
     ]
    },
    {
     "data": {
      "text/html": [
       "<div>\n",
       "<style scoped>\n",
       "    .dataframe tbody tr th:only-of-type {\n",
       "        vertical-align: middle;\n",
       "    }\n",
       "\n",
       "    .dataframe tbody tr th {\n",
       "        vertical-align: top;\n",
       "    }\n",
       "\n",
       "    .dataframe thead th {\n",
       "        text-align: right;\n",
       "    }\n",
       "</style>\n",
       "<table border=\"1\" class=\"dataframe\">\n",
       "  <thead>\n",
       "    <tr style=\"text-align: right;\">\n",
       "      <th></th>\n",
       "      <th>feature_ts</th>\n",
       "      <th>terminal_id</th>\n",
       "      <th>terminal_id_nb_tx_1day_window</th>\n",
       "      <th>terminal_id_nb_tx_7day_window</th>\n",
       "      <th>terminal_id_nb_tx_14day_window</th>\n",
       "      <th>terminal_id_risk_1day_window</th>\n",
       "      <th>terminal_id_risk_7day_window</th>\n",
       "      <th>terminal_id_risk_14day_window</th>\n",
       "    </tr>\n",
       "  </thead>\n",
       "  <tbody>\n",
       "    <tr>\n",
       "      <th>0</th>\n",
       "      <td>2023-12-15 15:49:41+00:00</td>\n",
       "      <td>01596843</td>\n",
       "      <td>9</td>\n",
       "      <td>59</td>\n",
       "      <td>59</td>\n",
       "      <td>0.0</td>\n",
       "      <td>0.000000</td>\n",
       "      <td>0.000000</td>\n",
       "    </tr>\n",
       "    <tr>\n",
       "      <th>1</th>\n",
       "      <td>2023-12-18 13:23:23+00:00</td>\n",
       "      <td>16631216</td>\n",
       "      <td>27</td>\n",
       "      <td>155</td>\n",
       "      <td>155</td>\n",
       "      <td>0.0</td>\n",
       "      <td>0.006452</td>\n",
       "      <td>0.006452</td>\n",
       "    </tr>\n",
       "    <tr>\n",
       "      <th>2</th>\n",
       "      <td>2023-12-20 03:27:00+00:00</td>\n",
       "      <td>16631216</td>\n",
       "      <td>24</td>\n",
       "      <td>158</td>\n",
       "      <td>187</td>\n",
       "      <td>0.0</td>\n",
       "      <td>0.006329</td>\n",
       "      <td>0.005348</td>\n",
       "    </tr>\n",
       "    <tr>\n",
       "      <th>3</th>\n",
       "      <td>2023-12-18 08:39:08+00:00</td>\n",
       "      <td>18597292</td>\n",
       "      <td>24</td>\n",
       "      <td>128</td>\n",
       "      <td>128</td>\n",
       "      <td>0.0</td>\n",
       "      <td>0.046875</td>\n",
       "      <td>0.046875</td>\n",
       "    </tr>\n",
       "    <tr>\n",
       "      <th>4</th>\n",
       "      <td>2023-12-10 01:32:08+00:00</td>\n",
       "      <td>39619330</td>\n",
       "      <td>0</td>\n",
       "      <td>0</td>\n",
       "      <td>0</td>\n",
       "      <td>0.0</td>\n",
       "      <td>0.000000</td>\n",
       "      <td>0.000000</td>\n",
       "    </tr>\n",
       "  </tbody>\n",
       "</table>\n",
       "</div>"
      ],
      "text/plain": [
       "                 feature_ts terminal_id  terminal_id_nb_tx_1day_window  \\\n",
       "0 2023-12-15 15:49:41+00:00    01596843                              9   \n",
       "1 2023-12-18 13:23:23+00:00    16631216                             27   \n",
       "2 2023-12-20 03:27:00+00:00    16631216                             24   \n",
       "3 2023-12-18 08:39:08+00:00    18597292                             24   \n",
       "4 2023-12-10 01:32:08+00:00    39619330                              0   \n",
       "\n",
       "   terminal_id_nb_tx_7day_window  terminal_id_nb_tx_14day_window  \\\n",
       "0                             59                              59   \n",
       "1                            155                             155   \n",
       "2                            158                             187   \n",
       "3                            128                             128   \n",
       "4                              0                               0   \n",
       "\n",
       "   terminal_id_risk_1day_window  terminal_id_risk_7day_window  \\\n",
       "0                           0.0                      0.000000   \n",
       "1                           0.0                      0.006452   \n",
       "2                           0.0                      0.006329   \n",
       "3                           0.0                      0.046875   \n",
       "4                           0.0                      0.000000   \n",
       "\n",
       "   terminal_id_risk_14day_window  \n",
       "0                       0.000000  \n",
       "1                       0.006452  \n",
       "2                       0.005348  \n",
       "3                       0.046875  \n",
       "4                       0.000000  "
      ]
     },
     "execution_count": 16,
     "metadata": {},
     "output_type": "execute_result"
    }
   ],
   "source": [
    "run_bq_query(\n",
    "    f\"SELECT * FROM `{TERMINALS_BQ_TABLE_URI}` LIMIT 5\", show=True\n",
    ")"
   ]
  },
  {
   "cell_type": "markdown",
   "metadata": {},
   "source": [
    "Let's look at the final schema of the features table:"
   ]
  },
  {
   "cell_type": "code",
   "execution_count": 17,
   "metadata": {
    "tags": []
   },
   "outputs": [
    {
     "name": "stdout",
     "output_type": "stream",
     "text": [
      "Finished job_id: e8cbbd06-a0c2-4269-935f-d03dc94ee18c\n"
     ]
    },
    {
     "data": {
      "text/html": [
       "<div>\n",
       "<style scoped>\n",
       "    .dataframe tbody tr th:only-of-type {\n",
       "        vertical-align: middle;\n",
       "    }\n",
       "\n",
       "    .dataframe tbody tr th {\n",
       "        vertical-align: top;\n",
       "    }\n",
       "\n",
       "    .dataframe thead th {\n",
       "        text-align: right;\n",
       "    }\n",
       "</style>\n",
       "<table border=\"1\" class=\"dataframe\">\n",
       "  <thead>\n",
       "    <tr style=\"text-align: right;\">\n",
       "      <th></th>\n",
       "      <th>column_name</th>\n",
       "      <th>data_type</th>\n",
       "    </tr>\n",
       "  </thead>\n",
       "  <tbody>\n",
       "    <tr>\n",
       "      <th>0</th>\n",
       "      <td>feature_ts</td>\n",
       "      <td>TIMESTAMP</td>\n",
       "    </tr>\n",
       "    <tr>\n",
       "      <th>1</th>\n",
       "      <td>customer_id</td>\n",
       "      <td>STRING</td>\n",
       "    </tr>\n",
       "    <tr>\n",
       "      <th>2</th>\n",
       "      <td>customer_id_nb_tx_1day_window</td>\n",
       "      <td>INT64</td>\n",
       "    </tr>\n",
       "    <tr>\n",
       "      <th>3</th>\n",
       "      <td>customer_id_nb_tx_7day_window</td>\n",
       "      <td>INT64</td>\n",
       "    </tr>\n",
       "    <tr>\n",
       "      <th>4</th>\n",
       "      <td>customer_id_nb_tx_14day_window</td>\n",
       "      <td>INT64</td>\n",
       "    </tr>\n",
       "    <tr>\n",
       "      <th>5</th>\n",
       "      <td>customer_id_avg_amount_1day_window</td>\n",
       "      <td>FLOAT64</td>\n",
       "    </tr>\n",
       "    <tr>\n",
       "      <th>6</th>\n",
       "      <td>customer_id_avg_amount_7day_window</td>\n",
       "      <td>FLOAT64</td>\n",
       "    </tr>\n",
       "    <tr>\n",
       "      <th>7</th>\n",
       "      <td>customer_id_avg_amount_14day_window</td>\n",
       "      <td>FLOAT64</td>\n",
       "    </tr>\n",
       "  </tbody>\n",
       "</table>\n",
       "</div>"
      ],
      "text/plain": [
       "                           column_name  data_type\n",
       "0                           feature_ts  TIMESTAMP\n",
       "1                          customer_id     STRING\n",
       "2        customer_id_nb_tx_1day_window      INT64\n",
       "3        customer_id_nb_tx_7day_window      INT64\n",
       "4       customer_id_nb_tx_14day_window      INT64\n",
       "5   customer_id_avg_amount_1day_window    FLOAT64\n",
       "6   customer_id_avg_amount_7day_window    FLOAT64\n",
       "7  customer_id_avg_amount_14day_window    FLOAT64"
      ]
     },
     "execution_count": 17,
     "metadata": {},
     "output_type": "execute_result"
    }
   ],
   "source": [
    "run_bq_query(f\"\"\"\n",
    "SELECT column_name, data_type\n",
    "FROM tx.INFORMATION_SCHEMA.COLUMNS\n",
    "WHERE table_name = '{CUSTOMERS_TABLE_NAME}'\n",
    "\"\"\", show=True)"
   ]
  },
  {
   "cell_type": "code",
   "execution_count": 38,
   "metadata": {
    "tags": []
   },
   "outputs": [
    {
     "name": "stdout",
     "output_type": "stream",
     "text": [
      "Finished job_id: 87a88172-6515-4123-b07b-6819475b4f01\n"
     ]
    },
    {
     "data": {
      "text/html": [
       "<div>\n",
       "<style scoped>\n",
       "    .dataframe tbody tr th:only-of-type {\n",
       "        vertical-align: middle;\n",
       "    }\n",
       "\n",
       "    .dataframe tbody tr th {\n",
       "        vertical-align: top;\n",
       "    }\n",
       "\n",
       "    .dataframe thead th {\n",
       "        text-align: right;\n",
       "    }\n",
       "</style>\n",
       "<table border=\"1\" class=\"dataframe\">\n",
       "  <thead>\n",
       "    <tr style=\"text-align: right;\">\n",
       "      <th></th>\n",
       "      <th>column_name</th>\n",
       "      <th>data_type</th>\n",
       "    </tr>\n",
       "  </thead>\n",
       "  <tbody>\n",
       "    <tr>\n",
       "      <th>0</th>\n",
       "      <td>feature_ts</td>\n",
       "      <td>TIMESTAMP</td>\n",
       "    </tr>\n",
       "    <tr>\n",
       "      <th>1</th>\n",
       "      <td>terminal_id</td>\n",
       "      <td>STRING</td>\n",
       "    </tr>\n",
       "    <tr>\n",
       "      <th>2</th>\n",
       "      <td>terminal_id_nb_tx_1day_window</td>\n",
       "      <td>INT64</td>\n",
       "    </tr>\n",
       "    <tr>\n",
       "      <th>3</th>\n",
       "      <td>terminal_id_nb_tx_7day_window</td>\n",
       "      <td>INT64</td>\n",
       "    </tr>\n",
       "    <tr>\n",
       "      <th>4</th>\n",
       "      <td>terminal_id_nb_tx_14day_window</td>\n",
       "      <td>INT64</td>\n",
       "    </tr>\n",
       "    <tr>\n",
       "      <th>5</th>\n",
       "      <td>terminal_id_risk_1day_window</td>\n",
       "      <td>FLOAT64</td>\n",
       "    </tr>\n",
       "    <tr>\n",
       "      <th>6</th>\n",
       "      <td>terminal_id_risk_7day_window</td>\n",
       "      <td>FLOAT64</td>\n",
       "    </tr>\n",
       "    <tr>\n",
       "      <th>7</th>\n",
       "      <td>terminal_id_risk_14day_window</td>\n",
       "      <td>FLOAT64</td>\n",
       "    </tr>\n",
       "  </tbody>\n",
       "</table>\n",
       "</div>"
      ],
      "text/plain": [
       "                      column_name  data_type\n",
       "0                      feature_ts  TIMESTAMP\n",
       "1                     terminal_id     STRING\n",
       "2   terminal_id_nb_tx_1day_window      INT64\n",
       "3   terminal_id_nb_tx_7day_window      INT64\n",
       "4  terminal_id_nb_tx_14day_window      INT64\n",
       "5    terminal_id_risk_1day_window    FLOAT64\n",
       "6    terminal_id_risk_7day_window    FLOAT64\n",
       "7   terminal_id_risk_14day_window    FLOAT64"
      ]
     },
     "execution_count": 38,
     "metadata": {},
     "output_type": "execute_result"
    }
   ],
   "source": [
    "run_bq_query(f\"\"\"\n",
    "SELECT column_name, data_type\n",
    "FROM tx.INFORMATION_SCHEMA.COLUMNS\n",
    "WHERE table_name = '{TERMINALS_TABLE_NAME}'\n",
    "\"\"\", show=True)"
   ]
  },
  {
   "cell_type": "markdown",
   "metadata": {},
   "source": [
    "In addition to feature engineering with SQL or with pandas (e.g BigQuery Dataframes), BQML also gives us the possiblity to perform in database transformations using [BQML Feature Engineering](https://cloud.google.com/bigquery/docs/manual-preprocessing)"
   ]
  },
  {
   "cell_type": "markdown",
   "metadata": {},
   "source": []
  }
 ],
 "metadata": {
  "colab": {
   "collapsed_sections": [],
   "name": "02_feature_engineering_batch.ipynb",
   "toc_visible": true
  },
  "environment": {
   "kernel": "conda-root-py",
   "name": "workbench-notebooks.m113",
   "type": "gcloud",
   "uri": "gcr.io/deeplearning-platform-release/workbench-notebooks:m113"
  },
  "kernelspec": {
   "display_name": "Python 3 (ipykernel) (Local)",
   "language": "python",
   "name": "conda-root-py"
  },
  "language_info": {
   "codemirror_mode": {
    "name": "ipython",
    "version": 3
   },
   "file_extension": ".py",
   "mimetype": "text/x-python",
   "name": "python",
   "nbconvert_exporter": "python",
   "pygments_lexer": "ipython3",
   "version": "3.10.13"
  }
 },
 "nbformat": 4,
 "nbformat_minor": 4
}
